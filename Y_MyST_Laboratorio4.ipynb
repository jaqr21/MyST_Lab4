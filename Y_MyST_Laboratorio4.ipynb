{
 "cells": [
  {
   "cell_type": "markdown",
   "metadata": {},
   "source": [
    "<img style=\"float: right; margin: 0px 0px 15px 15px;\" src=\"https://www.carrerasenlinea.mx/logos/original/logo-instituto-tecnologico-y-de-estudios-superiores-de-occidente.png\" width=\"150px\" height=\"100px\" />\n",
    "\n",
    "# Laboratorio 4 y 5: Análisis Fundamental\n",
    "\n",
    "\n",
    "- Poder describir los efectos cuantitativos en el precio durante los comunicados de indicadores macroeconómicos, así como el detectar oportunidades de inversión a partir de los resultados obtenidos. Lo anterior, utilizando lo que se conoce como \"Calendario Económico\", y más en particular, aquel que incorpora información de las principales economías del mundo por lo que es ampliamiente utilizado en el mercado de Forex.El propósito: Que utilices la información histórica de la cuenta de trading manual y, mediante la formulación y programación de 3 \"Sesgos cognitivos\", realices una evaluación del desempeño de la cuenta utilizando el marco de \"Behavioral economics\". Con la finalidad de inferir si al momento de tomar las decisiones que se tomaron en esa cuenta, se estuvo incurriendo en esos \"Sesgos cognitivos\" y su impacto en el resultado final.\n",
    "\n",
    "\n",
    "#### Equipo Y:\n",
    "\n",
    "* José Antonio Quintero Rodríguez\n",
    "* Paulina Rodríguez Guerrero\n",
    "* Diego Velasco Sánchez"
   ]
  },
  {
   "cell_type": "code",
   "execution_count": 1,
   "metadata": {},
   "outputs": [],
   "source": [
    "import pandas as pd\n",
    "#from collections import Counter\n",
    "import matplotlib.pyplot as plt\n",
    "import numpy as np\n",
    "\n",
    "import plotly.graph_objects as go\n",
    "from plotly.subplots import make_subplots"
   ]
  },
  {
   "cell_type": "markdown",
   "metadata": {},
   "source": [
    "### IMPORTACION DE DATOS"
   ]
  },
  {
   "cell_type": "code",
   "execution_count": 3,
   "metadata": {
    "scrolled": true
   },
   "outputs": [
    {
     "data": {
      "text/html": [
       "<div>\n",
       "<style scoped>\n",
       "    .dataframe tbody tr th:only-of-type {\n",
       "        vertical-align: middle;\n",
       "    }\n",
       "\n",
       "    .dataframe tbody tr th {\n",
       "        vertical-align: top;\n",
       "    }\n",
       "\n",
       "    .dataframe thead th {\n",
       "        text-align: right;\n",
       "    }\n",
       "</style>\n",
       "<table border=\"1\" class=\"dataframe\">\n",
       "  <thead>\n",
       "    <tr style=\"text-align: right;\">\n",
       "      <th></th>\n",
       "      <th>timestamp</th>\n",
       "      <th>Currency</th>\n",
       "      <th>Name</th>\n",
       "      <th>Country</th>\n",
       "      <th>Volatility</th>\n",
       "      <th>actual</th>\n",
       "      <th>previous</th>\n",
       "      <th>consensus</th>\n",
       "    </tr>\n",
       "  </thead>\n",
       "  <tbody>\n",
       "    <tr>\n",
       "      <td>0</td>\n",
       "      <td>2009-01-05 09:30:00+00:00</td>\n",
       "      <td>EUR</td>\n",
       "      <td>Sentix Investor Confidence</td>\n",
       "      <td>European Monetary Union</td>\n",
       "      <td>1</td>\n",
       "      <td>-34.4</td>\n",
       "      <td>-42.3</td>\n",
       "      <td>NaN</td>\n",
       "    </tr>\n",
       "    <tr>\n",
       "      <td>1</td>\n",
       "      <td>2009-01-05 15:00:00+00:00</td>\n",
       "      <td>USD</td>\n",
       "      <td>Construction Spending (MoM)</td>\n",
       "      <td>United States</td>\n",
       "      <td>1</td>\n",
       "      <td>-1.2</td>\n",
       "      <td>-0.4</td>\n",
       "      <td>-1.3</td>\n",
       "    </tr>\n",
       "    <tr>\n",
       "      <td>2</td>\n",
       "      <td>2009-01-06 08:55:00+00:00</td>\n",
       "      <td>EUR</td>\n",
       "      <td>Markit Services PMI</td>\n",
       "      <td>Germany</td>\n",
       "      <td>1</td>\n",
       "      <td>46.6</td>\n",
       "      <td>46.4</td>\n",
       "      <td>46.4</td>\n",
       "    </tr>\n",
       "    <tr>\n",
       "      <td>3</td>\n",
       "      <td>2009-01-06 09:00:00+00:00</td>\n",
       "      <td>EUR</td>\n",
       "      <td>Markit Services PMI</td>\n",
       "      <td>European Monetary Union</td>\n",
       "      <td>0</td>\n",
       "      <td>42.1</td>\n",
       "      <td>42.0</td>\n",
       "      <td>42.0</td>\n",
       "    </tr>\n",
       "    <tr>\n",
       "      <td>4</td>\n",
       "      <td>2009-01-06 10:00:00+00:00</td>\n",
       "      <td>EUR</td>\n",
       "      <td>Consumer Price Index (YoY)</td>\n",
       "      <td>European Monetary Union</td>\n",
       "      <td>2</td>\n",
       "      <td>1.6</td>\n",
       "      <td>2.1</td>\n",
       "      <td>1.8</td>\n",
       "    </tr>\n",
       "  </tbody>\n",
       "</table>\n",
       "</div>"
      ],
      "text/plain": [
       "                  timestamp Currency                         Name  \\\n",
       "0 2009-01-05 09:30:00+00:00      EUR   Sentix Investor Confidence   \n",
       "1 2009-01-05 15:00:00+00:00      USD  Construction Spending (MoM)   \n",
       "2 2009-01-06 08:55:00+00:00      EUR          Markit Services PMI   \n",
       "3 2009-01-06 09:00:00+00:00      EUR          Markit Services PMI   \n",
       "4 2009-01-06 10:00:00+00:00      EUR   Consumer Price Index (YoY)   \n",
       "\n",
       "                   Country  Volatility  actual  previous  consensus  \n",
       "0  European Monetary Union           1   -34.4     -42.3        NaN  \n",
       "1            United States           1    -1.2      -0.4       -1.3  \n",
       "2                  Germany           1    46.6      46.4       46.4  \n",
       "3  European Monetary Union           0    42.1      42.0       42.0  \n",
       "4  European Monetary Union           2     1.6       2.1        1.8  "
      ]
     },
     "execution_count": 3,
     "metadata": {},
     "output_type": "execute_result"
    }
   ],
   "source": [
    "#archivo de calendario económico\n",
    "archivo = pd.read_csv('calendario_economico.csv')\n",
    "archivo['timestamp'] = pd.to_datetime(archivo['timestamp'])\n",
    "archivo['timestamp'] = archivo['timestamp'].dt.tz_localize('UTC')\n",
    "archivo.head(5)"
   ]
  },
  {
   "cell_type": "code",
   "execution_count": 4,
   "metadata": {},
   "outputs": [
    {
     "data": {
      "text/html": [
       "<div>\n",
       "<style scoped>\n",
       "    .dataframe tbody tr th:only-of-type {\n",
       "        vertical-align: middle;\n",
       "    }\n",
       "\n",
       "    .dataframe tbody tr th {\n",
       "        vertical-align: top;\n",
       "    }\n",
       "\n",
       "    .dataframe thead th {\n",
       "        text-align: right;\n",
       "    }\n",
       "</style>\n",
       "<table border=\"1\" class=\"dataframe\">\n",
       "  <thead>\n",
       "    <tr style=\"text-align: right;\">\n",
       "      <th></th>\n",
       "      <th>timestamp</th>\n",
       "      <th>open</th>\n",
       "      <th>high</th>\n",
       "      <th>low</th>\n",
       "      <th>close</th>\n",
       "    </tr>\n",
       "  </thead>\n",
       "  <tbody>\n",
       "    <tr>\n",
       "      <td>0</td>\n",
       "      <td>2019-01-01 22:00:00+00:00</td>\n",
       "      <td>1.14649</td>\n",
       "      <td>1.14658</td>\n",
       "      <td>1.14634</td>\n",
       "      <td>1.14658</td>\n",
       "    </tr>\n",
       "    <tr>\n",
       "      <td>1</td>\n",
       "      <td>2019-01-01 22:05:00+00:00</td>\n",
       "      <td>1.14658</td>\n",
       "      <td>1.14658</td>\n",
       "      <td>1.14635</td>\n",
       "      <td>1.14635</td>\n",
       "    </tr>\n",
       "    <tr>\n",
       "      <td>2</td>\n",
       "      <td>2019-01-01 22:10:00+00:00</td>\n",
       "      <td>1.14635</td>\n",
       "      <td>1.14636</td>\n",
       "      <td>1.14632</td>\n",
       "      <td>1.14632</td>\n",
       "    </tr>\n",
       "    <tr>\n",
       "      <td>3</td>\n",
       "      <td>2019-01-01 22:15:00+00:00</td>\n",
       "      <td>1.14632</td>\n",
       "      <td>1.14632</td>\n",
       "      <td>1.14632</td>\n",
       "      <td>1.14632</td>\n",
       "    </tr>\n",
       "    <tr>\n",
       "      <td>4</td>\n",
       "      <td>2019-01-01 22:20:00+00:00</td>\n",
       "      <td>1.14653</td>\n",
       "      <td>1.14653</td>\n",
       "      <td>1.14653</td>\n",
       "      <td>1.14653</td>\n",
       "    </tr>\n",
       "  </tbody>\n",
       "</table>\n",
       "</div>"
      ],
      "text/plain": [
       "                  timestamp     open     high      low    close\n",
       "0 2019-01-01 22:00:00+00:00  1.14649  1.14658  1.14634  1.14658\n",
       "1 2019-01-01 22:05:00+00:00  1.14658  1.14658  1.14635  1.14635\n",
       "2 2019-01-01 22:10:00+00:00  1.14635  1.14636  1.14632  1.14632\n",
       "3 2019-01-01 22:15:00+00:00  1.14632  1.14632  1.14632  1.14632\n",
       "4 2019-01-01 22:20:00+00:00  1.14653  1.14653  1.14653  1.14653"
      ]
     },
     "execution_count": 4,
     "metadata": {},
     "output_type": "execute_result"
    }
   ],
   "source": [
    "#archivo de precios 2019 usado para tests\n",
    "archivop_2019=pd.read_csv('precios_historicos_eurusd_2019.csv')\n",
    "archivop_2019['timestamp'] = pd.to_datetime(archivop_2019['timestamp'])\n",
    "archivop_2019['timestamp'] = archivop_2019['timestamp'].dt.tz_localize('UTC')\n",
    "archivop_2019.head(5)"
   ]
  },
  {
   "cell_type": "code",
   "execution_count": 5,
   "metadata": {},
   "outputs": [
    {
     "data": {
      "text/html": [
       "<div>\n",
       "<style scoped>\n",
       "    .dataframe tbody tr th:only-of-type {\n",
       "        vertical-align: middle;\n",
       "    }\n",
       "\n",
       "    .dataframe tbody tr th {\n",
       "        vertical-align: top;\n",
       "    }\n",
       "\n",
       "    .dataframe thead th {\n",
       "        text-align: right;\n",
       "    }\n",
       "</style>\n",
       "<table border=\"1\" class=\"dataframe\">\n",
       "  <thead>\n",
       "    <tr style=\"text-align: right;\">\n",
       "      <th></th>\n",
       "      <th>timestamp</th>\n",
       "      <th>open</th>\n",
       "      <th>high</th>\n",
       "      <th>low</th>\n",
       "      <th>close</th>\n",
       "    </tr>\n",
       "  </thead>\n",
       "  <tbody>\n",
       "    <tr>\n",
       "      <td>0</td>\n",
       "      <td>2009-01-06 05:00:00+00:00</td>\n",
       "      <td>1.35564</td>\n",
       "      <td>1.35565</td>\n",
       "      <td>1.35383</td>\n",
       "      <td>1.35439</td>\n",
       "    </tr>\n",
       "    <tr>\n",
       "      <td>1</td>\n",
       "      <td>2009-01-06 05:05:00+00:00</td>\n",
       "      <td>1.35443</td>\n",
       "      <td>1.35489</td>\n",
       "      <td>1.35424</td>\n",
       "      <td>1.35474</td>\n",
       "    </tr>\n",
       "    <tr>\n",
       "      <td>2</td>\n",
       "      <td>2009-01-06 05:10:00+00:00</td>\n",
       "      <td>1.35480</td>\n",
       "      <td>1.35552</td>\n",
       "      <td>1.35439</td>\n",
       "      <td>1.35539</td>\n",
       "    </tr>\n",
       "    <tr>\n",
       "      <td>3</td>\n",
       "      <td>2009-01-06 05:15:00+00:00</td>\n",
       "      <td>1.35545</td>\n",
       "      <td>1.35549</td>\n",
       "      <td>1.35101</td>\n",
       "      <td>1.35101</td>\n",
       "    </tr>\n",
       "    <tr>\n",
       "      <td>4</td>\n",
       "      <td>2009-01-06 05:20:00+00:00</td>\n",
       "      <td>1.35101</td>\n",
       "      <td>1.35130</td>\n",
       "      <td>1.35021</td>\n",
       "      <td>1.35086</td>\n",
       "    </tr>\n",
       "  </tbody>\n",
       "</table>\n",
       "</div>"
      ],
      "text/plain": [
       "                  timestamp     open     high      low    close\n",
       "0 2009-01-06 05:00:00+00:00  1.35564  1.35565  1.35383  1.35439\n",
       "1 2009-01-06 05:05:00+00:00  1.35443  1.35489  1.35424  1.35474\n",
       "2 2009-01-06 05:10:00+00:00  1.35480  1.35552  1.35439  1.35539\n",
       "3 2009-01-06 05:15:00+00:00  1.35545  1.35549  1.35101  1.35101\n",
       "4 2009-01-06 05:20:00+00:00  1.35101  1.35130  1.35021  1.35086"
      ]
     },
     "execution_count": 5,
     "metadata": {},
     "output_type": "execute_result"
    }
   ],
   "source": [
    "#archivo de precios histórico\n",
    "archivoph=pd.read_csv('precios_historicos_eurusd.csv')\n",
    "archivoph['timestamp'] = pd.to_datetime(archivoph['timestamp'])\n",
    "archivoph['timestamp'] = archivoph['timestamp'].dt.tz_localize('UTC')\n",
    "archivoph.head(5)"
   ]
  },
  {
   "cell_type": "markdown",
   "metadata": {},
   "source": [
    "### SELECCION DE INDICADORES"
   ]
  },
  {
   "cell_type": "markdown",
   "metadata": {},
   "source": [
    "#### PRIMER INDICADOR"
   ]
  },
  {
   "cell_type": "code",
   "execution_count": 6,
   "metadata": {},
   "outputs": [
    {
     "data": {
      "text/html": [
       "<div>\n",
       "<style scoped>\n",
       "    .dataframe tbody tr th:only-of-type {\n",
       "        vertical-align: middle;\n",
       "    }\n",
       "\n",
       "    .dataframe tbody tr th {\n",
       "        vertical-align: top;\n",
       "    }\n",
       "\n",
       "    .dataframe thead th {\n",
       "        text-align: right;\n",
       "    }\n",
       "</style>\n",
       "<table border=\"1\" class=\"dataframe\">\n",
       "  <thead>\n",
       "    <tr style=\"text-align: right;\">\n",
       "      <th></th>\n",
       "      <th>timestamp</th>\n",
       "      <th>Currency</th>\n",
       "      <th>Name</th>\n",
       "      <th>Country</th>\n",
       "      <th>Volatility</th>\n",
       "      <th>actual</th>\n",
       "      <th>previous</th>\n",
       "      <th>consensus</th>\n",
       "    </tr>\n",
       "  </thead>\n",
       "  <tbody>\n",
       "    <tr>\n",
       "      <td>0</td>\n",
       "      <td>2009-01-16 13:30:00+00:00</td>\n",
       "      <td>USD</td>\n",
       "      <td>Consumer Price Index (MoM)</td>\n",
       "      <td>United States</td>\n",
       "      <td>2</td>\n",
       "      <td>-0.8</td>\n",
       "      <td>-1.7</td>\n",
       "      <td>-0.9</td>\n",
       "    </tr>\n",
       "    <tr>\n",
       "      <td>1</td>\n",
       "      <td>2009-02-20 13:30:00+00:00</td>\n",
       "      <td>USD</td>\n",
       "      <td>Consumer Price Index (MoM)</td>\n",
       "      <td>United States</td>\n",
       "      <td>2</td>\n",
       "      <td>0.3</td>\n",
       "      <td>-0.8</td>\n",
       "      <td>0.3</td>\n",
       "    </tr>\n",
       "    <tr>\n",
       "      <td>2</td>\n",
       "      <td>2009-03-18 12:30:00+00:00</td>\n",
       "      <td>USD</td>\n",
       "      <td>Consumer Price Index (MoM)</td>\n",
       "      <td>United States</td>\n",
       "      <td>2</td>\n",
       "      <td>0.4</td>\n",
       "      <td>0.3</td>\n",
       "      <td>0.3</td>\n",
       "    </tr>\n",
       "    <tr>\n",
       "      <td>3</td>\n",
       "      <td>2009-04-15 12:30:00+00:00</td>\n",
       "      <td>USD</td>\n",
       "      <td>Consumer Price Index (MoM)</td>\n",
       "      <td>United States</td>\n",
       "      <td>2</td>\n",
       "      <td>-0.1</td>\n",
       "      <td>0.4</td>\n",
       "      <td>0.1</td>\n",
       "    </tr>\n",
       "    <tr>\n",
       "      <td>4</td>\n",
       "      <td>2009-05-15 12:30:00+00:00</td>\n",
       "      <td>USD</td>\n",
       "      <td>Consumer Price Index (MoM)</td>\n",
       "      <td>United States</td>\n",
       "      <td>2</td>\n",
       "      <td>0</td>\n",
       "      <td>-0.1</td>\n",
       "      <td>0</td>\n",
       "    </tr>\n",
       "  </tbody>\n",
       "</table>\n",
       "</div>"
      ],
      "text/plain": [
       "                  timestamp Currency                        Name  \\\n",
       "0 2009-01-16 13:30:00+00:00      USD  Consumer Price Index (MoM)   \n",
       "1 2009-02-20 13:30:00+00:00      USD  Consumer Price Index (MoM)   \n",
       "2 2009-03-18 12:30:00+00:00      USD  Consumer Price Index (MoM)   \n",
       "3 2009-04-15 12:30:00+00:00      USD  Consumer Price Index (MoM)   \n",
       "4 2009-05-15 12:30:00+00:00      USD  Consumer Price Index (MoM)   \n",
       "\n",
       "         Country Volatility actual previous consensus  \n",
       "0  United States          2   -0.8     -1.7      -0.9  \n",
       "1  United States          2    0.3     -0.8       0.3  \n",
       "2  United States          2    0.4      0.3       0.3  \n",
       "3  United States          2   -0.1      0.4       0.1  \n",
       "4  United States          2      0     -0.1         0  "
      ]
     },
     "execution_count": 6,
     "metadata": {},
     "output_type": "execute_result"
    }
   ],
   "source": [
    "filtro_usa = archivo[((archivo['Country'] == \"United States\"))\n",
    "     & ((archivo['Name'] == 'Consumer Price Index (MoM)'))].reset_index(drop=True).dropna(subset=['actual']).fillna(method='ffill',axis=1)\n",
    "#en reset_index, el drop=True elimina el índice anterior\n",
    "#en dropna, el subset indica que tome como parámetro la columna 'actual'\n",
    "#en fillna, se indica que toma la última observación en caso de encontrar NAN's, en este caso pone previous en consensus\n",
    "filtro_usa.head()"
   ]
  },
  {
   "cell_type": "markdown",
   "metadata": {},
   "source": [
    "#### SEGUNDO INDICADOR"
   ]
  },
  {
   "cell_type": "code",
   "execution_count": 7,
   "metadata": {},
   "outputs": [
    {
     "data": {
      "text/html": [
       "<div>\n",
       "<style scoped>\n",
       "    .dataframe tbody tr th:only-of-type {\n",
       "        vertical-align: middle;\n",
       "    }\n",
       "\n",
       "    .dataframe tbody tr th {\n",
       "        vertical-align: top;\n",
       "    }\n",
       "\n",
       "    .dataframe thead th {\n",
       "        text-align: right;\n",
       "    }\n",
       "</style>\n",
       "<table border=\"1\" class=\"dataframe\">\n",
       "  <thead>\n",
       "    <tr style=\"text-align: right;\">\n",
       "      <th></th>\n",
       "      <th>timestamp</th>\n",
       "      <th>Currency</th>\n",
       "      <th>Name</th>\n",
       "      <th>Country</th>\n",
       "      <th>Volatility</th>\n",
       "      <th>actual</th>\n",
       "      <th>previous</th>\n",
       "      <th>consensus</th>\n",
       "    </tr>\n",
       "  </thead>\n",
       "  <tbody>\n",
       "    <tr>\n",
       "      <td>0</td>\n",
       "      <td>2009-01-15 10:00:00+00:00</td>\n",
       "      <td>EUR</td>\n",
       "      <td>Consumer Price Index (MoM)</td>\n",
       "      <td>European Monetary Union</td>\n",
       "      <td>2</td>\n",
       "      <td>-0.1</td>\n",
       "      <td>-0.5</td>\n",
       "      <td>-0.1</td>\n",
       "    </tr>\n",
       "    <tr>\n",
       "      <td>1</td>\n",
       "      <td>2009-02-27 10:00:00+00:00</td>\n",
       "      <td>EUR</td>\n",
       "      <td>Consumer Price Index (MoM)</td>\n",
       "      <td>European Monetary Union</td>\n",
       "      <td>2</td>\n",
       "      <td>-0.8</td>\n",
       "      <td>-0.1</td>\n",
       "      <td>-0.9</td>\n",
       "    </tr>\n",
       "    <tr>\n",
       "      <td>2</td>\n",
       "      <td>2009-03-16 10:00:00+00:00</td>\n",
       "      <td>EUR</td>\n",
       "      <td>Consumer Price Index (MoM)</td>\n",
       "      <td>European Monetary Union</td>\n",
       "      <td>2</td>\n",
       "      <td>0.4</td>\n",
       "      <td>-0.8</td>\n",
       "      <td>0.4</td>\n",
       "    </tr>\n",
       "    <tr>\n",
       "      <td>3</td>\n",
       "      <td>2009-04-16 09:00:00+00:00</td>\n",
       "      <td>EUR</td>\n",
       "      <td>Consumer Price Index (MoM)</td>\n",
       "      <td>European Monetary Union</td>\n",
       "      <td>2</td>\n",
       "      <td>0.4</td>\n",
       "      <td>0.4</td>\n",
       "      <td>0.4</td>\n",
       "    </tr>\n",
       "    <tr>\n",
       "      <td>4</td>\n",
       "      <td>2009-05-15 09:00:00+00:00</td>\n",
       "      <td>EUR</td>\n",
       "      <td>Consumer Price Index (MoM)</td>\n",
       "      <td>European Monetary Union</td>\n",
       "      <td>2</td>\n",
       "      <td>0.4</td>\n",
       "      <td>0.4</td>\n",
       "      <td>0.4</td>\n",
       "    </tr>\n",
       "  </tbody>\n",
       "</table>\n",
       "</div>"
      ],
      "text/plain": [
       "                  timestamp Currency                        Name  \\\n",
       "0 2009-01-15 10:00:00+00:00      EUR  Consumer Price Index (MoM)   \n",
       "1 2009-02-27 10:00:00+00:00      EUR  Consumer Price Index (MoM)   \n",
       "2 2009-03-16 10:00:00+00:00      EUR  Consumer Price Index (MoM)   \n",
       "3 2009-04-16 09:00:00+00:00      EUR  Consumer Price Index (MoM)   \n",
       "4 2009-05-15 09:00:00+00:00      EUR  Consumer Price Index (MoM)   \n",
       "\n",
       "                   Country Volatility actual previous consensus  \n",
       "0  European Monetary Union          2   -0.1     -0.5      -0.1  \n",
       "1  European Monetary Union          2   -0.8     -0.1      -0.9  \n",
       "2  European Monetary Union          2    0.4     -0.8       0.4  \n",
       "3  European Monetary Union          2    0.4      0.4       0.4  \n",
       "4  European Monetary Union          2    0.4      0.4       0.4  "
      ]
     },
     "execution_count": 7,
     "metadata": {},
     "output_type": "execute_result"
    }
   ],
   "source": [
    "filtro_ue = archivo[((archivo['Country'] == \"European Monetary Union\"))\n",
    "     & ((archivo['Name'] == 'Consumer Price Index (MoM)'))].reset_index(drop=True).dropna(subset=['actual']).fillna(method='ffill',axis=1)\n",
    "#en reset_index, el drop=True elimina el índice anterior\n",
    "#en dropna, el subset indica que tome como parámetro la columna 'actual'\n",
    "#en fillna, se indica que toma la última observación en caso de encontrar NAN's, en este caso pone previous en consensus\n",
    "filtro_ue.head()"
   ]
  },
  {
   "cell_type": "markdown",
   "metadata": {},
   "source": [
    "### CLASIFICACIÓN DE OBSERVACIONES"
   ]
  },
  {
   "cell_type": "code",
   "execution_count": 8,
   "metadata": {},
   "outputs": [
    {
     "data": {
      "text/html": [
       "<div>\n",
       "<style scoped>\n",
       "    .dataframe tbody tr th:only-of-type {\n",
       "        vertical-align: middle;\n",
       "    }\n",
       "\n",
       "    .dataframe tbody tr th {\n",
       "        vertical-align: top;\n",
       "    }\n",
       "\n",
       "    .dataframe thead th {\n",
       "        text-align: right;\n",
       "    }\n",
       "</style>\n",
       "<table border=\"1\" class=\"dataframe\">\n",
       "  <thead>\n",
       "    <tr style=\"text-align: right;\">\n",
       "      <th></th>\n",
       "      <th>timestamp</th>\n",
       "      <th>Currency</th>\n",
       "      <th>Name</th>\n",
       "      <th>Country</th>\n",
       "      <th>Volatility</th>\n",
       "      <th>actual</th>\n",
       "      <th>previous</th>\n",
       "      <th>consensus</th>\n",
       "      <th>Clasificacion</th>\n",
       "    </tr>\n",
       "  </thead>\n",
       "  <tbody>\n",
       "    <tr>\n",
       "      <td>124</td>\n",
       "      <td>2019-05-10 12:30:00+00:00</td>\n",
       "      <td>USD</td>\n",
       "      <td>Consumer Price Index (MoM)</td>\n",
       "      <td>United States</td>\n",
       "      <td>2</td>\n",
       "      <td>0.3</td>\n",
       "      <td>0.4</td>\n",
       "      <td>0.4</td>\n",
       "      <td>C</td>\n",
       "    </tr>\n",
       "    <tr>\n",
       "      <td>125</td>\n",
       "      <td>2019-06-12 12:30:00+00:00</td>\n",
       "      <td>USD</td>\n",
       "      <td>Consumer Price Index (MoM)</td>\n",
       "      <td>United States</td>\n",
       "      <td>2</td>\n",
       "      <td>0.1</td>\n",
       "      <td>0.3</td>\n",
       "      <td>0.1</td>\n",
       "      <td>B</td>\n",
       "    </tr>\n",
       "    <tr>\n",
       "      <td>126</td>\n",
       "      <td>2019-07-11 12:30:00+00:00</td>\n",
       "      <td>USD</td>\n",
       "      <td>Consumer Price Index (MoM)</td>\n",
       "      <td>United States</td>\n",
       "      <td>2</td>\n",
       "      <td>0.1</td>\n",
       "      <td>0.1</td>\n",
       "      <td>0</td>\n",
       "      <td>B</td>\n",
       "    </tr>\n",
       "    <tr>\n",
       "      <td>127</td>\n",
       "      <td>2019-08-13 12:30:00+00:00</td>\n",
       "      <td>USD</td>\n",
       "      <td>Consumer Price Index (MoM)</td>\n",
       "      <td>United States</td>\n",
       "      <td>2</td>\n",
       "      <td>0.3</td>\n",
       "      <td>0.1</td>\n",
       "      <td>0.3</td>\n",
       "      <td>A</td>\n",
       "    </tr>\n",
       "    <tr>\n",
       "      <td>128</td>\n",
       "      <td>2019-09-12 12:30:00+00:00</td>\n",
       "      <td>USD</td>\n",
       "      <td>Consumer Price Index (MoM)</td>\n",
       "      <td>United States</td>\n",
       "      <td>2</td>\n",
       "      <td>0.1</td>\n",
       "      <td>0.3</td>\n",
       "      <td>0.1</td>\n",
       "      <td>B</td>\n",
       "    </tr>\n",
       "  </tbody>\n",
       "</table>\n",
       "</div>"
      ],
      "text/plain": [
       "                    timestamp Currency                        Name  \\\n",
       "124 2019-05-10 12:30:00+00:00      USD  Consumer Price Index (MoM)   \n",
       "125 2019-06-12 12:30:00+00:00      USD  Consumer Price Index (MoM)   \n",
       "126 2019-07-11 12:30:00+00:00      USD  Consumer Price Index (MoM)   \n",
       "127 2019-08-13 12:30:00+00:00      USD  Consumer Price Index (MoM)   \n",
       "128 2019-09-12 12:30:00+00:00      USD  Consumer Price Index (MoM)   \n",
       "\n",
       "           Country Volatility actual previous consensus Clasificacion  \n",
       "124  United States          2    0.3      0.4       0.4             C  \n",
       "125  United States          2    0.1      0.3       0.1             B  \n",
       "126  United States          2    0.1      0.1         0             B  \n",
       "127  United States          2    0.3      0.1       0.3             A  \n",
       "128  United States          2    0.1      0.3       0.1             B  "
      ]
     },
     "execution_count": 8,
     "metadata": {},
     "output_type": "execute_result"
    }
   ],
   "source": [
    "#USA\n",
    "filtro_usa[\"Clasificacion\"]=\"\"\n",
    "for i in range(len(filtro_usa)):\n",
    "    if (filtro_usa.loc[i,'actual']>=filtro_usa.loc[i,'consensus'])&(filtro_usa.loc[i,'consensus']>=filtro_usa.loc[i,'previous']):\n",
    "        filtro_usa.loc[i,'Clasificacion']=\"A\"\n",
    "    elif (filtro_usa.loc[i,'actual']>=filtro_usa.loc[i,'consensus'])&(filtro_usa.loc[i,'consensus']<filtro_usa.loc[i,'previous']):\n",
    "        filtro_usa.loc[i,'Clasificacion']=\"B\"\n",
    "    elif (filtro_usa.loc[i,'actual']<filtro_usa.loc[i,'consensus'])&(filtro_usa.loc[i,'consensus']>=filtro_usa.loc[i,'previous']):\n",
    "        filtro_usa.loc[i,'Clasificacion']=\"C\"\n",
    "    elif (filtro_usa.loc[i,'actual']<filtro_usa.loc[i,'consensus'])&(filtro_usa.loc[i,'consensus']<filtro_usa.loc[i,'previous']):\n",
    "        filtro_usa.loc[i,'Clasificacion']=\"D\"\n",
    "    else: \n",
    "        filtro_usa.loc[i,'Clasificacion']=\"N/A\"\n",
    "        \n",
    "filtro_usa.tail()"
   ]
  },
  {
   "cell_type": "code",
   "execution_count": 9,
   "metadata": {},
   "outputs": [
    {
     "data": {
      "text/html": [
       "<div>\n",
       "<style scoped>\n",
       "    .dataframe tbody tr th:only-of-type {\n",
       "        vertical-align: middle;\n",
       "    }\n",
       "\n",
       "    .dataframe tbody tr th {\n",
       "        vertical-align: top;\n",
       "    }\n",
       "\n",
       "    .dataframe thead th {\n",
       "        text-align: right;\n",
       "    }\n",
       "</style>\n",
       "<table border=\"1\" class=\"dataframe\">\n",
       "  <thead>\n",
       "    <tr style=\"text-align: right;\">\n",
       "      <th></th>\n",
       "      <th>timestamp</th>\n",
       "      <th>Currency</th>\n",
       "      <th>Name</th>\n",
       "      <th>Country</th>\n",
       "      <th>Volatility</th>\n",
       "      <th>actual</th>\n",
       "      <th>previous</th>\n",
       "      <th>consensus</th>\n",
       "      <th>Clasificacion</th>\n",
       "    </tr>\n",
       "  </thead>\n",
       "  <tbody>\n",
       "    <tr>\n",
       "      <td>0</td>\n",
       "      <td>2009-01-15 10:00:00+00:00</td>\n",
       "      <td>EUR</td>\n",
       "      <td>Consumer Price Index (MoM)</td>\n",
       "      <td>European Monetary Union</td>\n",
       "      <td>2</td>\n",
       "      <td>-0.1</td>\n",
       "      <td>-0.5</td>\n",
       "      <td>-0.1</td>\n",
       "      <td>A</td>\n",
       "    </tr>\n",
       "    <tr>\n",
       "      <td>1</td>\n",
       "      <td>2009-02-27 10:00:00+00:00</td>\n",
       "      <td>EUR</td>\n",
       "      <td>Consumer Price Index (MoM)</td>\n",
       "      <td>European Monetary Union</td>\n",
       "      <td>2</td>\n",
       "      <td>-0.8</td>\n",
       "      <td>-0.1</td>\n",
       "      <td>-0.9</td>\n",
       "      <td>B</td>\n",
       "    </tr>\n",
       "    <tr>\n",
       "      <td>2</td>\n",
       "      <td>2009-03-16 10:00:00+00:00</td>\n",
       "      <td>EUR</td>\n",
       "      <td>Consumer Price Index (MoM)</td>\n",
       "      <td>European Monetary Union</td>\n",
       "      <td>2</td>\n",
       "      <td>0.4</td>\n",
       "      <td>-0.8</td>\n",
       "      <td>0.4</td>\n",
       "      <td>A</td>\n",
       "    </tr>\n",
       "    <tr>\n",
       "      <td>3</td>\n",
       "      <td>2009-04-16 09:00:00+00:00</td>\n",
       "      <td>EUR</td>\n",
       "      <td>Consumer Price Index (MoM)</td>\n",
       "      <td>European Monetary Union</td>\n",
       "      <td>2</td>\n",
       "      <td>0.4</td>\n",
       "      <td>0.4</td>\n",
       "      <td>0.4</td>\n",
       "      <td>A</td>\n",
       "    </tr>\n",
       "    <tr>\n",
       "      <td>4</td>\n",
       "      <td>2009-05-15 09:00:00+00:00</td>\n",
       "      <td>EUR</td>\n",
       "      <td>Consumer Price Index (MoM)</td>\n",
       "      <td>European Monetary Union</td>\n",
       "      <td>2</td>\n",
       "      <td>0.4</td>\n",
       "      <td>0.4</td>\n",
       "      <td>0.4</td>\n",
       "      <td>A</td>\n",
       "    </tr>\n",
       "  </tbody>\n",
       "</table>\n",
       "</div>"
      ],
      "text/plain": [
       "                  timestamp Currency                        Name  \\\n",
       "0 2009-01-15 10:00:00+00:00      EUR  Consumer Price Index (MoM)   \n",
       "1 2009-02-27 10:00:00+00:00      EUR  Consumer Price Index (MoM)   \n",
       "2 2009-03-16 10:00:00+00:00      EUR  Consumer Price Index (MoM)   \n",
       "3 2009-04-16 09:00:00+00:00      EUR  Consumer Price Index (MoM)   \n",
       "4 2009-05-15 09:00:00+00:00      EUR  Consumer Price Index (MoM)   \n",
       "\n",
       "                   Country Volatility actual previous consensus Clasificacion  \n",
       "0  European Monetary Union          2   -0.1     -0.5      -0.1             A  \n",
       "1  European Monetary Union          2   -0.8     -0.1      -0.9             B  \n",
       "2  European Monetary Union          2    0.4     -0.8       0.4             A  \n",
       "3  European Monetary Union          2    0.4      0.4       0.4             A  \n",
       "4  European Monetary Union          2    0.4      0.4       0.4             A  "
      ]
     },
     "execution_count": 9,
     "metadata": {},
     "output_type": "execute_result"
    }
   ],
   "source": [
    "#UE\n",
    "filtro_ue[\"Clasificacion\"]=\"\"\n",
    "for i in range(len(filtro_ue)):\n",
    "    if (filtro_ue.loc[i,'actual']>=filtro_ue.loc[i,'consensus'])&(filtro_ue.loc[i,'consensus']>=filtro_ue.loc[i,'previous']):\n",
    "        filtro_ue.loc[i,'Clasificacion']=\"A\"\n",
    "    elif (filtro_ue.loc[i,'actual']>=filtro_ue.loc[i,'consensus'])&(filtro_ue.loc[i,'consensus']<filtro_ue.loc[i,'previous']):\n",
    "        filtro_ue.loc[i,'Clasificacion']=\"B\"\n",
    "    elif (filtro_ue.loc[i,'actual']<filtro_usa.loc[i,'consensus'])&(filtro_ue.loc[i,'consensus']>=filtro_ue.loc[i,'previous']):\n",
    "        filtro_ue.loc[i,'Clasificacion']=\"C\"\n",
    "    elif (filtro_ue.loc[i,'actual']<filtro_ue.loc[i,'consensus'])&(filtro_ue.loc[i,'consensus']<filtro_ue.loc[i,'previous']):\n",
    "        filtro_ue.loc[i,'Clasificacion']=\"D\"\n",
    "    else: \n",
    "        filtro_ue.loc[i,'Clasificacion']=\"N/A\"\n",
    "        \n",
    "filtro_ue.head()"
   ]
  },
  {
   "cell_type": "code",
   "execution_count": null,
   "metadata": {},
   "outputs": [],
   "source": [
    "fig=make_subplots(rows=1,cols=2,subplot_titles=['Consumer Price Index (MoM) UE','Consumer Price Index (MoM) USA'])\n",
    "\n",
    "ue_graf=go.Histogram(x=filtro_ue[\"Clasificacion\"])\n",
    "usa_graf=go.Histogram(x=filtro_usa[\"Clasificacion\"])\n",
    "\n",
    "fig.append_trace(ue_graf,1,1)\n",
    "fig.append_trace(usa_graf,1,2)\n",
    "\n",
    "fig.show()"
   ]
  },
  {
   "cell_type": "markdown",
   "metadata": {},
   "source": [
    "### Datos por indicador\n",
    "#### Redifiniendo los dataframes sólo con la información presente en el calendario económico y en el histórico de precios"
   ]
  },
  {
   "cell_type": "code",
   "execution_count": 10,
   "metadata": {},
   "outputs": [
    {
     "data": {
      "text/html": [
       "<div>\n",
       "<style scoped>\n",
       "    .dataframe tbody tr th:only-of-type {\n",
       "        vertical-align: middle;\n",
       "    }\n",
       "\n",
       "    .dataframe tbody tr th {\n",
       "        vertical-align: top;\n",
       "    }\n",
       "\n",
       "    .dataframe thead th {\n",
       "        text-align: right;\n",
       "    }\n",
       "</style>\n",
       "<table border=\"1\" class=\"dataframe\">\n",
       "  <thead>\n",
       "    <tr style=\"text-align: right;\">\n",
       "      <th></th>\n",
       "      <th>timestamp</th>\n",
       "      <th>Currency</th>\n",
       "      <th>Name</th>\n",
       "      <th>Country</th>\n",
       "      <th>Volatility</th>\n",
       "      <th>actual</th>\n",
       "      <th>previous</th>\n",
       "      <th>consensus</th>\n",
       "      <th>Clasificacion</th>\n",
       "    </tr>\n",
       "  </thead>\n",
       "  <tbody>\n",
       "    <tr>\n",
       "      <td>0</td>\n",
       "      <td>2019-01-11 13:30:00+00:00</td>\n",
       "      <td>USD</td>\n",
       "      <td>Consumer Price Index (MoM)</td>\n",
       "      <td>United States</td>\n",
       "      <td>2</td>\n",
       "      <td>-0.1</td>\n",
       "      <td>0</td>\n",
       "      <td>-0.1</td>\n",
       "      <td>B</td>\n",
       "    </tr>\n",
       "    <tr>\n",
       "      <td>1</td>\n",
       "      <td>2019-02-13 13:30:00+00:00</td>\n",
       "      <td>USD</td>\n",
       "      <td>Consumer Price Index (MoM)</td>\n",
       "      <td>United States</td>\n",
       "      <td>2</td>\n",
       "      <td>0</td>\n",
       "      <td>-0.1</td>\n",
       "      <td>0.1</td>\n",
       "      <td>C</td>\n",
       "    </tr>\n",
       "    <tr>\n",
       "      <td>2</td>\n",
       "      <td>2019-03-12 12:30:00+00:00</td>\n",
       "      <td>USD</td>\n",
       "      <td>Consumer Price Index (MoM)</td>\n",
       "      <td>United States</td>\n",
       "      <td>2</td>\n",
       "      <td>0.2</td>\n",
       "      <td>0</td>\n",
       "      <td>0.2</td>\n",
       "      <td>A</td>\n",
       "    </tr>\n",
       "    <tr>\n",
       "      <td>3</td>\n",
       "      <td>2019-04-10 12:30:00+00:00</td>\n",
       "      <td>USD</td>\n",
       "      <td>Consumer Price Index (MoM)</td>\n",
       "      <td>United States</td>\n",
       "      <td>2</td>\n",
       "      <td>0.4</td>\n",
       "      <td>0.2</td>\n",
       "      <td>0.3</td>\n",
       "      <td>A</td>\n",
       "    </tr>\n",
       "    <tr>\n",
       "      <td>4</td>\n",
       "      <td>2019-05-10 12:30:00+00:00</td>\n",
       "      <td>USD</td>\n",
       "      <td>Consumer Price Index (MoM)</td>\n",
       "      <td>United States</td>\n",
       "      <td>2</td>\n",
       "      <td>0.3</td>\n",
       "      <td>0.4</td>\n",
       "      <td>0.4</td>\n",
       "      <td>C</td>\n",
       "    </tr>\n",
       "    <tr>\n",
       "      <td>5</td>\n",
       "      <td>2019-06-12 12:30:00+00:00</td>\n",
       "      <td>USD</td>\n",
       "      <td>Consumer Price Index (MoM)</td>\n",
       "      <td>United States</td>\n",
       "      <td>2</td>\n",
       "      <td>0.1</td>\n",
       "      <td>0.3</td>\n",
       "      <td>0.1</td>\n",
       "      <td>B</td>\n",
       "    </tr>\n",
       "    <tr>\n",
       "      <td>6</td>\n",
       "      <td>2019-07-11 12:30:00+00:00</td>\n",
       "      <td>USD</td>\n",
       "      <td>Consumer Price Index (MoM)</td>\n",
       "      <td>United States</td>\n",
       "      <td>2</td>\n",
       "      <td>0.1</td>\n",
       "      <td>0.1</td>\n",
       "      <td>0</td>\n",
       "      <td>B</td>\n",
       "    </tr>\n",
       "    <tr>\n",
       "      <td>7</td>\n",
       "      <td>2019-08-13 12:30:00+00:00</td>\n",
       "      <td>USD</td>\n",
       "      <td>Consumer Price Index (MoM)</td>\n",
       "      <td>United States</td>\n",
       "      <td>2</td>\n",
       "      <td>0.3</td>\n",
       "      <td>0.1</td>\n",
       "      <td>0.3</td>\n",
       "      <td>A</td>\n",
       "    </tr>\n",
       "    <tr>\n",
       "      <td>8</td>\n",
       "      <td>2019-09-12 12:30:00+00:00</td>\n",
       "      <td>USD</td>\n",
       "      <td>Consumer Price Index (MoM)</td>\n",
       "      <td>United States</td>\n",
       "      <td>2</td>\n",
       "      <td>0.1</td>\n",
       "      <td>0.3</td>\n",
       "      <td>0.1</td>\n",
       "      <td>B</td>\n",
       "    </tr>\n",
       "  </tbody>\n",
       "</table>\n",
       "</div>"
      ],
      "text/plain": [
       "                  timestamp Currency                        Name  \\\n",
       "0 2019-01-11 13:30:00+00:00      USD  Consumer Price Index (MoM)   \n",
       "1 2019-02-13 13:30:00+00:00      USD  Consumer Price Index (MoM)   \n",
       "2 2019-03-12 12:30:00+00:00      USD  Consumer Price Index (MoM)   \n",
       "3 2019-04-10 12:30:00+00:00      USD  Consumer Price Index (MoM)   \n",
       "4 2019-05-10 12:30:00+00:00      USD  Consumer Price Index (MoM)   \n",
       "5 2019-06-12 12:30:00+00:00      USD  Consumer Price Index (MoM)   \n",
       "6 2019-07-11 12:30:00+00:00      USD  Consumer Price Index (MoM)   \n",
       "7 2019-08-13 12:30:00+00:00      USD  Consumer Price Index (MoM)   \n",
       "8 2019-09-12 12:30:00+00:00      USD  Consumer Price Index (MoM)   \n",
       "\n",
       "         Country Volatility actual previous consensus Clasificacion  \n",
       "0  United States          2   -0.1        0      -0.1             B  \n",
       "1  United States          2      0     -0.1       0.1             C  \n",
       "2  United States          2    0.2        0       0.2             A  \n",
       "3  United States          2    0.4      0.2       0.3             A  \n",
       "4  United States          2    0.3      0.4       0.4             C  \n",
       "5  United States          2    0.1      0.3       0.1             B  \n",
       "6  United States          2    0.1      0.1         0             B  \n",
       "7  United States          2    0.3      0.1       0.3             A  \n",
       "8  United States          2    0.1      0.3       0.1             B  "
      ]
     },
     "execution_count": 10,
     "metadata": {},
     "output_type": "execute_result"
    }
   ],
   "source": [
    "filtro_usa=filtro_usa[filtro_usa['timestamp'].isin(archivop_2019['timestamp'])].reset_index(drop=True)\n",
    "filtro_usa"
   ]
  },
  {
   "cell_type": "code",
   "execution_count": 11,
   "metadata": {},
   "outputs": [
    {
     "data": {
      "text/plain": [
       "{Timestamp('2019-01-11 13:30:00+0000', tz='UTC'):                    timestamp     open     high      low    close\n",
       " 0  2019-01-11 13:00:00+00:00  1.15284  1.15284  1.15240  1.15267\n",
       " 1  2019-01-11 13:05:00+00:00  1.15268  1.15332  1.15268  1.15328\n",
       " 2  2019-01-11 13:10:00+00:00  1.15324  1.15340  1.15310  1.15334\n",
       " 3  2019-01-11 13:15:00+00:00  1.15330  1.15332  1.15284  1.15286\n",
       " 4  2019-01-11 13:20:00+00:00  1.15290  1.15294  1.15238  1.15284\n",
       " 5  2019-01-11 13:25:00+00:00  1.15285  1.15296  1.15266  1.15272\n",
       " 6  2019-01-11 13:30:00+00:00  1.15264  1.15352  1.15202  1.15240\n",
       " 7  2019-01-11 13:35:00+00:00  1.15244  1.15358  1.15220  1.15298\n",
       " 8  2019-01-11 13:40:00+00:00  1.15296  1.15326  1.15206  1.15252\n",
       " 9  2019-01-11 13:45:00+00:00  1.15254  1.15301  1.15244  1.15284\n",
       " 10 2019-01-11 13:50:00+00:00  1.15288  1.15292  1.15250  1.15256\n",
       " 11 2019-01-11 13:55:00+00:00  1.15252  1.15273  1.15237  1.15266\n",
       " 12 2019-01-11 14:00:00+00:00  1.15264  1.15270  1.15239  1.15267,\n",
       " Timestamp('2019-02-13 13:30:00+0000', tz='UTC'):                    timestamp     open     high      low    close\n",
       " 0  2019-02-13 13:00:00+00:00  1.13060  1.13072  1.13036  1.13050\n",
       " 1  2019-02-13 13:05:00+00:00  1.13047  1.13063  1.13040  1.13040\n",
       " 2  2019-02-13 13:10:00+00:00  1.13037  1.13065  1.13037  1.13047\n",
       " 3  2019-02-13 13:15:00+00:00  1.13044  1.13056  1.13035  1.13056\n",
       " 4  2019-02-13 13:20:00+00:00  1.13054  1.13088  1.13047  1.13062\n",
       " 5  2019-02-13 13:25:00+00:00  1.13060  1.13089  1.13053  1.13066\n",
       " 6  2019-02-13 13:30:00+00:00  1.13069  1.13072  1.12910  1.12912\n",
       " 7  2019-02-13 13:35:00+00:00  1.12910  1.12990  1.12904  1.12968\n",
       " 8  2019-02-13 13:40:00+00:00  1.12966  1.12980  1.12942  1.12978\n",
       " 9  2019-02-13 13:45:00+00:00  1.12974  1.12990  1.12940  1.12954\n",
       " 10 2019-02-13 13:50:00+00:00  1.12956  1.13024  1.12918  1.12934\n",
       " 11 2019-02-13 13:55:00+00:00  1.12936  1.12946  1.12892  1.12914\n",
       " 12 2019-02-13 14:00:00+00:00  1.12916  1.12935  1.12900  1.12908,\n",
       " Timestamp('2019-03-12 12:30:00+0000', tz='UTC'):                    timestamp     open     high      low    close\n",
       " 0  2019-03-12 12:00:00+00:00  1.12534  1.12549  1.12494  1.12506\n",
       " 1  2019-03-12 12:05:00+00:00  1.12508  1.12552  1.12506  1.12542\n",
       " 2  2019-03-12 12:10:00+00:00  1.12540  1.12606  1.12528  1.12598\n",
       " 3  2019-03-12 12:15:00+00:00  1.12596  1.12626  1.12587  1.12624\n",
       " 4  2019-03-12 12:20:00+00:00  1.12622  1.12660  1.12618  1.12658\n",
       " 5  2019-03-12 12:25:00+00:00  1.12655  1.12678  1.12634  1.12661\n",
       " 6  2019-03-12 12:30:00+00:00  1.12664  1.12786  1.12664  1.12757\n",
       " 7  2019-03-12 12:35:00+00:00  1.12759  1.12766  1.12726  1.12731\n",
       " 8  2019-03-12 12:40:00+00:00  1.12734  1.12782  1.12726  1.12764\n",
       " 9  2019-03-12 12:45:00+00:00  1.12766  1.12848  1.12742  1.12824\n",
       " 10 2019-03-12 12:50:00+00:00  1.12826  1.12828  1.12752  1.12752\n",
       " 11 2019-03-12 12:55:00+00:00  1.12754  1.12846  1.12754  1.12816\n",
       " 12 2019-03-12 13:00:00+00:00  1.12818  1.12832  1.12782  1.12782,\n",
       " Timestamp('2019-04-10 12:30:00+0000', tz='UTC'):                    timestamp     open     high      low    close\n",
       " 0  2019-04-10 12:00:00+00:00  1.12764  1.12799  1.12764  1.12774\n",
       " 1  2019-04-10 12:05:00+00:00  1.12771  1.12788  1.12769  1.12788\n",
       " 2  2019-04-10 12:10:00+00:00  1.12785  1.12792  1.12757  1.12792\n",
       " 3  2019-04-10 12:15:00+00:00  1.12794  1.12794  1.12771  1.12774\n",
       " 4  2019-04-10 12:20:00+00:00  1.12776  1.12778  1.12760  1.12766\n",
       " 5  2019-04-10 12:25:00+00:00  1.12769  1.12778  1.12759  1.12778\n",
       " 6  2019-04-10 12:30:00+00:00  1.12782  1.12876  1.12678  1.12723\n",
       " 7  2019-04-10 12:35:00+00:00  1.12720  1.12720  1.12608  1.12662\n",
       " 8  2019-04-10 12:40:00+00:00  1.12660  1.12663  1.12566  1.12578\n",
       " 9  2019-04-10 12:45:00+00:00  1.12580  1.12662  1.12536  1.12662\n",
       " 10 2019-04-10 12:50:00+00:00  1.12666  1.12668  1.12584  1.12634\n",
       " 11 2019-04-10 12:55:00+00:00  1.12632  1.12643  1.12553  1.12564\n",
       " 12 2019-04-10 13:00:00+00:00  1.12562  1.12596  1.12491  1.12504,\n",
       " Timestamp('2019-05-10 12:30:00+0000', tz='UTC'):                    timestamp     open     high      low    close\n",
       " 0  2019-05-10 12:00:00+00:00  1.12300  1.12336  1.12281  1.12336\n",
       " 1  2019-05-10 12:05:00+00:00  1.12334  1.12342  1.12318  1.12325\n",
       " 2  2019-05-10 12:10:00+00:00  1.12323  1.12330  1.12298  1.12298\n",
       " 3  2019-05-10 12:15:00+00:00  1.12296  1.12317  1.12284  1.12312\n",
       " 4  2019-05-10 12:20:00+00:00  1.12315  1.12315  1.12274  1.12281\n",
       " 5  2019-05-10 12:25:00+00:00  1.12283  1.12293  1.12272  1.12281\n",
       " 6  2019-05-10 12:30:00+00:00  1.12284  1.12396  1.12270  1.12322\n",
       " 7  2019-05-10 12:35:00+00:00  1.12319  1.12398  1.12306  1.12368\n",
       " 8  2019-05-10 12:40:00+00:00  1.12366  1.12442  1.12364  1.12432\n",
       " 9  2019-05-10 12:45:00+00:00  1.12434  1.12467  1.12420  1.12428\n",
       " 10 2019-05-10 12:50:00+00:00  1.12425  1.12447  1.12405  1.12433\n",
       " 11 2019-05-10 12:55:00+00:00  1.12436  1.12440  1.12412  1.12422\n",
       " 12 2019-05-10 13:00:00+00:00  1.12424  1.12450  1.12408  1.12408,\n",
       " Timestamp('2019-06-12 12:30:00+0000', tz='UTC'):                    timestamp     open     high      low    close\n",
       " 0  2019-06-12 12:00:00+00:00  1.13219  1.13240  1.13209  1.13234\n",
       " 1  2019-06-12 12:05:00+00:00  1.13232  1.13235  1.13217  1.13224\n",
       " 2  2019-06-12 12:10:00+00:00  1.13222  1.13239  1.13214  1.13228\n",
       " 3  2019-06-12 12:15:00+00:00  1.13230  1.13236  1.13208  1.13226\n",
       " 4  2019-06-12 12:20:00+00:00  1.13228  1.13228  1.13200  1.13220\n",
       " 5  2019-06-12 12:25:00+00:00  1.13217  1.13256  1.13208  1.13251\n",
       " 6  2019-06-12 12:30:00+00:00  1.13248  1.13407  1.13248  1.13341\n",
       " 7  2019-06-12 12:35:00+00:00  1.13343  1.13386  1.13313  1.13345\n",
       " 8  2019-06-12 12:40:00+00:00  1.13342  1.13368  1.13313  1.13316\n",
       " 9  2019-06-12 12:45:00+00:00  1.13318  1.13328  1.13164  1.13186\n",
       " 10 2019-06-12 12:50:00+00:00  1.13184  1.13192  1.13143  1.13151\n",
       " 11 2019-06-12 12:55:00+00:00  1.13154  1.13200  1.13154  1.13198\n",
       " 12 2019-06-12 13:00:00+00:00  1.13196  1.13199  1.13112  1.13118,\n",
       " Timestamp('2019-07-11 12:30:00+0000', tz='UTC'):                    timestamp     open     high      low    close\n",
       " 0  2019-07-11 12:00:00+00:00  1.12776  1.12854  1.12774  1.12842\n",
       " 1  2019-07-11 12:05:00+00:00  1.12844  1.12858  1.12803  1.12818\n",
       " 2  2019-07-11 12:10:00+00:00  1.12816  1.12850  1.12808  1.12847\n",
       " 3  2019-07-11 12:15:00+00:00  1.12845  1.12852  1.12799  1.12804\n",
       " 4  2019-07-11 12:20:00+00:00  1.12802  1.12816  1.12784  1.12808\n",
       " 5  2019-07-11 12:25:00+00:00  1.12806  1.12840  1.12805  1.12826\n",
       " 6  2019-07-11 12:30:00+00:00  1.12828  1.12828  1.12622  1.12688\n",
       " 7  2019-07-11 12:35:00+00:00  1.12690  1.12764  1.12684  1.12758\n",
       " 8  2019-07-11 12:40:00+00:00  1.12760  1.12778  1.12727  1.12764\n",
       " 9  2019-07-11 12:45:00+00:00  1.12766  1.12778  1.12652  1.12656\n",
       " 10 2019-07-11 12:50:00+00:00  1.12654  1.12676  1.12633  1.12643\n",
       " 11 2019-07-11 12:55:00+00:00  1.12646  1.12676  1.12641  1.12676\n",
       " 12 2019-07-11 13:00:00+00:00  1.12678  1.12726  1.12678  1.12708,\n",
       " Timestamp('2019-08-13 12:30:00+0000', tz='UTC'):                    timestamp     open     high      low    close\n",
       " 0  2019-08-13 12:00:00+00:00  1.12151  1.12197  1.12146  1.12174\n",
       " 1  2019-08-13 12:05:00+00:00  1.12176  1.12198  1.12174  1.12198\n",
       " 2  2019-08-13 12:10:00+00:00  1.12195  1.12230  1.12185  1.12223\n",
       " 3  2019-08-13 12:15:00+00:00  1.12221  1.12238  1.12218  1.12232\n",
       " 4  2019-08-13 12:20:00+00:00  1.12234  1.12285  1.12231  1.12280\n",
       " 5  2019-08-13 12:25:00+00:00  1.12283  1.12285  1.12167  1.12202\n",
       " 6  2019-08-13 12:30:00+00:00  1.12200  1.12200  1.12058  1.12098\n",
       " 7  2019-08-13 12:35:00+00:00  1.12096  1.12174  1.12086  1.12172\n",
       " 8  2019-08-13 12:40:00+00:00  1.12169  1.12217  1.12159  1.12190\n",
       " 9  2019-08-13 12:45:00+00:00  1.12192  1.12248  1.12153  1.12235\n",
       " 10 2019-08-13 12:50:00+00:00  1.12238  1.12246  1.12188  1.12210\n",
       " 11 2019-08-13 12:55:00+00:00  1.12212  1.12220  1.12164  1.12168\n",
       " 12 2019-08-13 13:00:00+00:00  1.12171  1.12194  1.12146  1.12146,\n",
       " Timestamp('2019-09-12 12:30:00+0000', tz='UTC'):                    timestamp     open     high      low    close\n",
       " 0  2019-09-12 12:00:00+00:00  1.09659  1.09702  1.09552  1.09567\n",
       " 1  2019-09-12 12:05:00+00:00  1.09565  1.09632  1.09544  1.09625\n",
       " 2  2019-09-12 12:10:00+00:00  1.09628  1.09650  1.09559  1.09628\n",
       " 3  2019-09-12 12:15:00+00:00  1.09626  1.09735  1.09591  1.09694\n",
       " 4  2019-09-12 12:20:00+00:00  1.09691  1.09718  1.09644  1.09646\n",
       " 5  2019-09-12 12:25:00+00:00  1.09648  1.09714  1.09638  1.09676\n",
       " 6  2019-09-12 12:30:00+00:00  1.09680  1.09704  1.09450  1.09480\n",
       " 7  2019-09-12 12:35:00+00:00  1.09483  1.09532  1.09394  1.09426\n",
       " 8  2019-09-12 12:40:00+00:00  1.09429  1.09438  1.09324  1.09344\n",
       " 9  2019-09-12 12:45:00+00:00  1.09341  1.09356  1.09268  1.09340\n",
       " 10 2019-09-12 12:50:00+00:00  1.09342  1.09422  1.09324  1.09375\n",
       " 11 2019-09-12 12:55:00+00:00  1.09378  1.09490  1.09358  1.09462\n",
       " 12 2019-09-12 13:00:00+00:00  1.09460  1.09550  1.09404  1.09542}"
      ]
     },
     "execution_count": 11,
     "metadata": {},
     "output_type": "execute_result"
    }
   ],
   "source": [
    "ventana_tiempo_usa={}\n",
    "for i in range(len(filtro_usa)):\n",
    "    indexx=int(archivop_2019[archivop_2019['timestamp']==filtro_usa.iloc[i,0]].index.values.astype(int))\n",
    "    previo=indexx-6 #se toman 6 periodos de 5 minutos previos\n",
    "    post=indexx+6 #se toman 6 periodos de 5 minutos posteriores\n",
    "    ventana_tiempo = archivop_2019.iloc[previo:(post+1)].reset_index(drop=True)\n",
    "    ventana_tiempo_usa[filtro_usa.iloc[i,0]]=ventana_tiempo\n",
    "\n",
    "ventana_tiempo_usa"
   ]
  },
  {
   "cell_type": "code",
   "execution_count": 12,
   "metadata": {},
   "outputs": [
    {
     "data": {
      "text/html": [
       "<div>\n",
       "<style scoped>\n",
       "    .dataframe tbody tr th:only-of-type {\n",
       "        vertical-align: middle;\n",
       "    }\n",
       "\n",
       "    .dataframe tbody tr th {\n",
       "        vertical-align: top;\n",
       "    }\n",
       "\n",
       "    .dataframe thead th {\n",
       "        text-align: right;\n",
       "    }\n",
       "</style>\n",
       "<table border=\"1\" class=\"dataframe\">\n",
       "  <thead>\n",
       "    <tr style=\"text-align: right;\">\n",
       "      <th></th>\n",
       "      <th>timestamp</th>\n",
       "      <th>Currency</th>\n",
       "      <th>Name</th>\n",
       "      <th>Country</th>\n",
       "      <th>Volatility</th>\n",
       "      <th>actual</th>\n",
       "      <th>previous</th>\n",
       "      <th>consensus</th>\n",
       "      <th>Clasificacion</th>\n",
       "    </tr>\n",
       "  </thead>\n",
       "  <tbody>\n",
       "    <tr>\n",
       "      <td>0</td>\n",
       "      <td>2019-01-17 10:00:00+00:00</td>\n",
       "      <td>EUR</td>\n",
       "      <td>Consumer Price Index (MoM)</td>\n",
       "      <td>European Monetary Union</td>\n",
       "      <td>2</td>\n",
       "      <td>0</td>\n",
       "      <td>-0.2</td>\n",
       "      <td>0</td>\n",
       "      <td>A</td>\n",
       "    </tr>\n",
       "    <tr>\n",
       "      <td>1</td>\n",
       "      <td>2019-02-22 10:00:00+00:00</td>\n",
       "      <td>EUR</td>\n",
       "      <td>Consumer Price Index (MoM)</td>\n",
       "      <td>European Monetary Union</td>\n",
       "      <td>2</td>\n",
       "      <td>-1</td>\n",
       "      <td>0</td>\n",
       "      <td>-1.1</td>\n",
       "      <td>B</td>\n",
       "    </tr>\n",
       "    <tr>\n",
       "      <td>2</td>\n",
       "      <td>2019-03-15 10:00:00+00:00</td>\n",
       "      <td>EUR</td>\n",
       "      <td>Consumer Price Index (MoM)</td>\n",
       "      <td>European Monetary Union</td>\n",
       "      <td>2</td>\n",
       "      <td>0.3</td>\n",
       "      <td>-1</td>\n",
       "      <td>0.3</td>\n",
       "      <td>A</td>\n",
       "    </tr>\n",
       "    <tr>\n",
       "      <td>3</td>\n",
       "      <td>2019-04-17 09:00:00+00:00</td>\n",
       "      <td>EUR</td>\n",
       "      <td>Consumer Price Index (MoM)</td>\n",
       "      <td>European Monetary Union</td>\n",
       "      <td>2</td>\n",
       "      <td>1</td>\n",
       "      <td>0.3</td>\n",
       "      <td>1</td>\n",
       "      <td>A</td>\n",
       "    </tr>\n",
       "    <tr>\n",
       "      <td>4</td>\n",
       "      <td>2019-05-17 09:00:00+00:00</td>\n",
       "      <td>EUR</td>\n",
       "      <td>Consumer Price Index (MoM)</td>\n",
       "      <td>European Monetary Union</td>\n",
       "      <td>2</td>\n",
       "      <td>0.7</td>\n",
       "      <td>1</td>\n",
       "      <td>0.7</td>\n",
       "      <td>B</td>\n",
       "    </tr>\n",
       "    <tr>\n",
       "      <td>5</td>\n",
       "      <td>2019-06-18 09:00:00+00:00</td>\n",
       "      <td>EUR</td>\n",
       "      <td>Consumer Price Index (MoM)</td>\n",
       "      <td>European Monetary Union</td>\n",
       "      <td>2</td>\n",
       "      <td>0.1</td>\n",
       "      <td>0.7</td>\n",
       "      <td>0.2</td>\n",
       "      <td>D</td>\n",
       "    </tr>\n",
       "    <tr>\n",
       "      <td>6</td>\n",
       "      <td>2019-07-17 09:00:00+00:00</td>\n",
       "      <td>EUR</td>\n",
       "      <td>Consumer Price Index (MoM)</td>\n",
       "      <td>European Monetary Union</td>\n",
       "      <td>2</td>\n",
       "      <td>0.2</td>\n",
       "      <td>0.1</td>\n",
       "      <td>0.1</td>\n",
       "      <td>A</td>\n",
       "    </tr>\n",
       "    <tr>\n",
       "      <td>7</td>\n",
       "      <td>2019-08-19 09:00:00+00:00</td>\n",
       "      <td>EUR</td>\n",
       "      <td>Consumer Price Index (MoM)</td>\n",
       "      <td>European Monetary Union</td>\n",
       "      <td>2</td>\n",
       "      <td>-0.5</td>\n",
       "      <td>0.2</td>\n",
       "      <td>-0.4</td>\n",
       "      <td>D</td>\n",
       "    </tr>\n",
       "    <tr>\n",
       "      <td>8</td>\n",
       "      <td>2019-09-18 09:00:00+00:00</td>\n",
       "      <td>EUR</td>\n",
       "      <td>Consumer Price Index (MoM)</td>\n",
       "      <td>European Monetary Union</td>\n",
       "      <td>2</td>\n",
       "      <td>0.1</td>\n",
       "      <td>-0.5</td>\n",
       "      <td>0.2</td>\n",
       "      <td>N/A</td>\n",
       "    </tr>\n",
       "  </tbody>\n",
       "</table>\n",
       "</div>"
      ],
      "text/plain": [
       "                  timestamp Currency                        Name  \\\n",
       "0 2019-01-17 10:00:00+00:00      EUR  Consumer Price Index (MoM)   \n",
       "1 2019-02-22 10:00:00+00:00      EUR  Consumer Price Index (MoM)   \n",
       "2 2019-03-15 10:00:00+00:00      EUR  Consumer Price Index (MoM)   \n",
       "3 2019-04-17 09:00:00+00:00      EUR  Consumer Price Index (MoM)   \n",
       "4 2019-05-17 09:00:00+00:00      EUR  Consumer Price Index (MoM)   \n",
       "5 2019-06-18 09:00:00+00:00      EUR  Consumer Price Index (MoM)   \n",
       "6 2019-07-17 09:00:00+00:00      EUR  Consumer Price Index (MoM)   \n",
       "7 2019-08-19 09:00:00+00:00      EUR  Consumer Price Index (MoM)   \n",
       "8 2019-09-18 09:00:00+00:00      EUR  Consumer Price Index (MoM)   \n",
       "\n",
       "                   Country Volatility actual previous consensus Clasificacion  \n",
       "0  European Monetary Union          2      0     -0.2         0             A  \n",
       "1  European Monetary Union          2     -1        0      -1.1             B  \n",
       "2  European Monetary Union          2    0.3       -1       0.3             A  \n",
       "3  European Monetary Union          2      1      0.3         1             A  \n",
       "4  European Monetary Union          2    0.7        1       0.7             B  \n",
       "5  European Monetary Union          2    0.1      0.7       0.2             D  \n",
       "6  European Monetary Union          2    0.2      0.1       0.1             A  \n",
       "7  European Monetary Union          2   -0.5      0.2      -0.4             D  \n",
       "8  European Monetary Union          2    0.1     -0.5       0.2           N/A  "
      ]
     },
     "execution_count": 12,
     "metadata": {},
     "output_type": "execute_result"
    }
   ],
   "source": [
    "filtro_ue=filtro_ue[filtro_ue['timestamp'].isin(archivop_2019['timestamp'])].reset_index(drop=True) #busca los timestamps que se presentan tanto en el hisorico de precios como en el filtro_ue\n",
    "filtro_ue"
   ]
  },
  {
   "cell_type": "code",
   "execution_count": 15,
   "metadata": {},
   "outputs": [
    {
     "data": {
      "text/plain": [
       "{Timestamp('2019-01-17 10:00:00+0000', tz='UTC'):                    timestamp     open     high      low    close\n",
       " 0  2019-01-17 09:25:00+00:00  1.13996  1.14018  1.13994  1.14006\n",
       " 1  2019-01-17 09:30:00+00:00  1.14002  1.14014  1.13996  1.14004\n",
       " 2  2019-01-17 09:40:00+00:00  1.13964  1.13994  1.13962  1.13974\n",
       " 3  2019-01-17 09:45:00+00:00  1.13972  1.13980  1.13963  1.13968\n",
       " 4  2019-01-17 09:50:00+00:00  1.13966  1.13974  1.13948  1.13958\n",
       " 5  2019-01-17 09:55:00+00:00  1.13958  1.13962  1.13916  1.13940\n",
       " 6  2019-01-17 10:00:00+00:00  1.13936  1.13958  1.13924  1.13942\n",
       " 7  2019-01-17 10:05:00+00:00  1.13944  1.13978  1.13936  1.13952\n",
       " 8  2019-01-17 10:10:00+00:00  1.13951  1.13952  1.13888  1.13894\n",
       " 9  2019-01-17 10:15:00+00:00  1.13898  1.13932  1.13888  1.13930\n",
       " 10 2019-01-17 10:20:00+00:00  1.13933  1.13933  1.13904  1.13910\n",
       " 11 2019-01-17 10:25:00+00:00  1.13911  1.13932  1.13892  1.13916\n",
       " 12 2019-01-17 10:30:00+00:00  1.13920  1.13938  1.13914  1.13932,\n",
       " Timestamp('2019-02-22 10:00:00+0000', tz='UTC'):                    timestamp     open     high      low    close\n",
       " 0  2019-02-22 09:30:00+00:00  1.13404  1.13414  1.13384  1.13384\n",
       " 1  2019-02-22 09:35:00+00:00  1.13386  1.13406  1.13382  1.13402\n",
       " 2  2019-02-22 09:40:00+00:00  1.13399  1.13416  1.13399  1.13401\n",
       " 3  2019-02-22 09:45:00+00:00  1.13398  1.13412  1.13391  1.13412\n",
       " 4  2019-02-22 09:50:00+00:00  1.13414  1.13416  1.13404  1.13408\n",
       " 5  2019-02-22 09:55:00+00:00  1.13406  1.13412  1.13392  1.13399\n",
       " 6  2019-02-22 10:00:00+00:00  1.13396  1.13402  1.13386  1.13394\n",
       " 7  2019-02-22 10:05:00+00:00  1.13396  1.13396  1.13362  1.13362\n",
       " 8  2019-02-22 10:10:00+00:00  1.13359  1.13381  1.13359  1.13381\n",
       " 9  2019-02-22 10:15:00+00:00  1.13378  1.13380  1.13353  1.13354\n",
       " 10 2019-02-22 10:20:00+00:00  1.13357  1.13375  1.13354  1.13364\n",
       " 11 2019-02-22 10:25:00+00:00  1.13366  1.13383  1.13361  1.13383\n",
       " 12 2019-02-22 10:30:00+00:00  1.13381  1.13381  1.13352  1.13362,\n",
       " Timestamp('2019-03-15 10:00:00+0000', tz='UTC'):                    timestamp     open     high      low    close\n",
       " 0  2019-03-15 09:30:00+00:00  1.13176  1.13183  1.13171  1.13176\n",
       " 1  2019-03-15 09:35:00+00:00  1.13178  1.13182  1.13173  1.13178\n",
       " 2  2019-03-15 09:40:00+00:00  1.13176  1.13180  1.13168  1.13168\n",
       " 3  2019-03-15 09:45:00+00:00  1.13170  1.13218  1.13157  1.13218\n",
       " 4  2019-03-15 09:50:00+00:00  1.13221  1.13239  1.13221  1.13237\n",
       " 5  2019-03-15 09:55:00+00:00  1.13234  1.13237  1.13212  1.13221\n",
       " 6  2019-03-15 10:00:00+00:00  1.13224  1.13246  1.13208  1.13242\n",
       " 7  2019-03-15 10:05:00+00:00  1.13240  1.13256  1.13234  1.13256\n",
       " 8  2019-03-15 10:10:00+00:00  1.13258  1.13266  1.13246  1.13257\n",
       " 9  2019-03-15 10:15:00+00:00  1.13260  1.13260  1.13226  1.13226\n",
       " 10 2019-03-15 10:20:00+00:00  1.13224  1.13229  1.13213  1.13226\n",
       " 11 2019-03-15 10:25:00+00:00  1.13224  1.13246  1.13218  1.13232\n",
       " 12 2019-03-15 10:30:00+00:00  1.13234  1.13241  1.13223  1.13227,\n",
       " Timestamp('2019-04-17 09:00:00+0000', tz='UTC'):                    timestamp     open     high      low    close\n",
       " 0  2019-04-17 08:30:00+00:00  1.13199  1.13204  1.13157  1.13159\n",
       " 1  2019-04-17 08:35:00+00:00  1.13157  1.13162  1.13136  1.13137\n",
       " 2  2019-04-17 08:40:00+00:00  1.13135  1.13144  1.13115  1.13124\n",
       " 3  2019-04-17 08:45:00+00:00  1.13126  1.13138  1.13112  1.13136\n",
       " 4  2019-04-17 08:50:00+00:00  1.13138  1.13138  1.13124  1.13132\n",
       " 5  2019-04-17 08:55:00+00:00  1.13135  1.13162  1.13135  1.13159\n",
       " 6  2019-04-17 09:00:00+00:00  1.13157  1.13162  1.13100  1.13133\n",
       " 7  2019-04-17 09:05:00+00:00  1.13136  1.13162  1.13130  1.13132\n",
       " 8  2019-04-17 09:10:00+00:00  1.13135  1.13164  1.13128  1.13162\n",
       " 9  2019-04-17 09:15:00+00:00  1.13160  1.13176  1.13144  1.13151\n",
       " 10 2019-04-17 09:20:00+00:00  1.13149  1.13158  1.13130  1.13151\n",
       " 11 2019-04-17 09:25:00+00:00  1.13149  1.13164  1.13146  1.13154\n",
       " 12 2019-04-17 09:30:00+00:00  1.13151  1.13170  1.13126  1.13170,\n",
       " Timestamp('2019-05-17 09:00:00+0000', tz='UTC'):                    timestamp     open     high      low    close\n",
       " 0  2019-05-17 08:30:00+00:00  1.11736  1.11756  1.11730  1.11749\n",
       " 1  2019-05-17 08:35:00+00:00  1.11747  1.11763  1.11738  1.11763\n",
       " 2  2019-05-17 08:40:00+00:00  1.11761  1.11763  1.11745  1.11746\n",
       " 3  2019-05-17 08:45:00+00:00  1.11748  1.11758  1.11726  1.11726\n",
       " 4  2019-05-17 08:50:00+00:00  1.11724  1.11730  1.11708  1.11721\n",
       " 5  2019-05-17 08:55:00+00:00  1.11719  1.11744  1.11716  1.11741\n",
       " 6  2019-05-17 09:00:00+00:00  1.11739  1.11768  1.11736  1.11755\n",
       " 7  2019-05-17 09:05:00+00:00  1.11758  1.11760  1.11697  1.11725\n",
       " 8  2019-05-17 09:10:00+00:00  1.11728  1.11734  1.11720  1.11730\n",
       " 9  2019-05-17 09:15:00+00:00  1.11727  1.11727  1.11674  1.11686\n",
       " 10 2019-05-17 09:20:00+00:00  1.11684  1.11684  1.11642  1.11652\n",
       " 11 2019-05-17 09:25:00+00:00  1.11655  1.11662  1.11622  1.11624\n",
       " 12 2019-05-17 09:30:00+00:00  1.11622  1.11629  1.11584  1.11626,\n",
       " Timestamp('2019-06-18 09:00:00+0000', tz='UTC'):                    timestamp     open     high      low    close\n",
       " 0  2019-06-18 08:30:00+00:00  1.11924  1.11942  1.11898  1.11910\n",
       " 1  2019-06-18 08:35:00+00:00  1.11912  1.11941  1.11899  1.11930\n",
       " 2  2019-06-18 08:40:00+00:00  1.11927  1.11968  1.11916  1.11946\n",
       " 3  2019-06-18 08:45:00+00:00  1.11944  1.11978  1.11942  1.11966\n",
       " 4  2019-06-18 08:50:00+00:00  1.11968  1.11974  1.11905  1.11928\n",
       " 5  2019-06-18 08:55:00+00:00  1.11932  1.11938  1.11900  1.11905\n",
       " 6  2019-06-18 09:00:00+00:00  1.11903  1.11908  1.11817  1.11852\n",
       " 7  2019-06-18 09:05:00+00:00  1.11854  1.11871  1.11820  1.11863\n",
       " 8  2019-06-18 09:10:00+00:00  1.11861  1.11864  1.11822  1.11853\n",
       " 9  2019-06-18 09:15:00+00:00  1.11856  1.11878  1.11838  1.11854\n",
       " 10 2019-06-18 09:20:00+00:00  1.11851  1.11881  1.11842  1.11878\n",
       " 11 2019-06-18 09:25:00+00:00  1.11876  1.11892  1.11864  1.11870\n",
       " 12 2019-06-18 09:30:00+00:00  1.11868  1.11882  1.11862  1.11876,\n",
       " Timestamp('2019-07-17 09:00:00+0000', tz='UTC'):                    timestamp     open     high      low    close\n",
       " 0  2019-07-17 08:30:00+00:00  1.12126  1.12129  1.12108  1.12126\n",
       " 1  2019-07-17 08:35:00+00:00  1.12128  1.12128  1.12115  1.12122\n",
       " 2  2019-07-17 08:40:00+00:00  1.12125  1.12135  1.12112  1.12118\n",
       " 3  2019-07-17 08:45:00+00:00  1.12116  1.12116  1.12100  1.12112\n",
       " 4  2019-07-17 08:50:00+00:00  1.12114  1.12121  1.12097  1.12100\n",
       " 5  2019-07-17 08:55:00+00:00  1.12102  1.12127  1.12102  1.12108\n",
       " 6  2019-07-17 09:00:00+00:00  1.12110  1.12132  1.12110  1.12116\n",
       " 7  2019-07-17 09:05:00+00:00  1.12114  1.12139  1.12114  1.12124\n",
       " 8  2019-07-17 09:10:00+00:00  1.12122  1.12152  1.12122  1.12127\n",
       " 9  2019-07-17 09:15:00+00:00  1.12125  1.12138  1.12122  1.12126\n",
       " 10 2019-07-17 09:20:00+00:00  1.12129  1.12150  1.12126  1.12126\n",
       " 11 2019-07-17 09:25:00+00:00  1.12129  1.12156  1.12129  1.12141\n",
       " 12 2019-07-17 09:30:00+00:00  1.12141  1.12162  1.12136  1.12146,\n",
       " Timestamp('2019-08-19 09:00:00+0000', tz='UTC'):                    timestamp     open     high      low    close\n",
       " 0  2019-08-19 08:30:00+00:00  1.11031  1.11044  1.11031  1.11044\n",
       " 1  2019-08-19 08:35:00+00:00  1.11046  1.11064  1.11034  1.11043\n",
       " 2  2019-08-19 08:40:00+00:00  1.11046  1.11048  1.11026  1.11034\n",
       " 3  2019-08-19 08:45:00+00:00  1.11032  1.11048  1.11032  1.11045\n",
       " 4  2019-08-19 08:50:00+00:00  1.11048  1.11058  1.11030  1.11042\n",
       " 5  2019-08-19 08:55:00+00:00  1.11044  1.11060  1.11016  1.11023\n",
       " 6  2019-08-19 09:00:00+00:00  1.11026  1.11068  1.11021  1.11047\n",
       " 7  2019-08-19 09:05:00+00:00  1.11044  1.11054  1.11028  1.11054\n",
       " 8  2019-08-19 09:10:00+00:00  1.11056  1.11072  1.11024  1.11040\n",
       " 9  2019-08-19 09:15:00+00:00  1.11038  1.11056  1.11024  1.11029\n",
       " 10 2019-08-19 09:20:00+00:00  1.11031  1.11041  1.11024  1.11028\n",
       " 11 2019-08-19 09:25:00+00:00  1.11030  1.11032  1.10986  1.10995\n",
       " 12 2019-08-19 09:30:00+00:00  1.10993  1.11020  1.10990  1.11008,\n",
       " Timestamp('2019-09-18 09:00:00+0000', tz='UTC'):                    timestamp     open     high      low    close\n",
       " 0  2019-09-18 08:30:00+00:00  1.10516  1.10535  1.10509  1.10535\n",
       " 1  2019-09-18 08:35:00+00:00  1.10533  1.10533  1.10451  1.10453\n",
       " 2  2019-09-18 08:40:00+00:00  1.10455  1.10473  1.10414  1.10470\n",
       " 3  2019-09-18 08:45:00+00:00  1.10467  1.10470  1.10438  1.10461\n",
       " 4  2019-09-18 08:50:00+00:00  1.10464  1.10478  1.10458  1.10458\n",
       " 5  2019-09-18 08:55:00+00:00  1.10461  1.10464  1.10412  1.10421\n",
       " 6  2019-09-18 09:00:00+00:00  1.10419  1.10430  1.10398  1.10428\n",
       " 7  2019-09-18 09:05:00+00:00  1.10426  1.10435  1.10412  1.10426\n",
       " 8  2019-09-18 09:10:00+00:00  1.10429  1.10439  1.10380  1.10394\n",
       " 9  2019-09-18 09:15:00+00:00  1.10391  1.10407  1.10368  1.10387\n",
       " 10 2019-09-18 09:20:00+00:00  1.10390  1.10405  1.10375  1.10394\n",
       " 11 2019-09-18 09:25:00+00:00  1.10397  1.10426  1.10390  1.10421\n",
       " 12 2019-09-18 09:30:00+00:00  1.10418  1.10446  1.10413  1.10441}"
      ]
     },
     "execution_count": 15,
     "metadata": {},
     "output_type": "execute_result"
    }
   ],
   "source": [
    "ventana_tiempo_ue={}\n",
    "for i in range(len(filtro_ue)):\n",
    "    indexx=int(archivop_2019[archivop_2019['timestamp']==filtro_ue.iloc[i,0]].index.values.astype(int))\n",
    "    previo=indexx-6 #se toman 6 periodos de 5 minutos previos\n",
    "    post=indexx+6 #se toman 6 periodos de 5 minutos posteriores\n",
    "    ventana_tiempo = archivop_2019.iloc[previo:(post+1)].reset_index(drop=True)\n",
    "    ventana_tiempo_ue[filtro_ue.iloc[i,0]]=ventana_tiempo\n",
    "\n",
    "ventana_tiempo_ue"
   ]
  },
  {
   "cell_type": "markdown",
   "metadata": {},
   "source": [
    "### Métricos"
   ]
  },
  {
   "cell_type": "code",
   "execution_count": 21,
   "metadata": {},
   "outputs": [
    {
     "data": {
      "text/html": [
       "<div>\n",
       "<style scoped>\n",
       "    .dataframe tbody tr th:only-of-type {\n",
       "        vertical-align: middle;\n",
       "    }\n",
       "\n",
       "    .dataframe tbody tr th {\n",
       "        vertical-align: top;\n",
       "    }\n",
       "\n",
       "    .dataframe thead th {\n",
       "        text-align: right;\n",
       "    }\n",
       "</style>\n",
       "<table border=\"1\" class=\"dataframe\">\n",
       "  <thead>\n",
       "    <tr style=\"text-align: right;\">\n",
       "      <th></th>\n",
       "      <th>timestamp</th>\n",
       "      <th>Currency</th>\n",
       "      <th>Name</th>\n",
       "      <th>Country</th>\n",
       "      <th>Volatility</th>\n",
       "      <th>actual</th>\n",
       "      <th>previous</th>\n",
       "      <th>consensus</th>\n",
       "      <th>Clasificacion</th>\n",
       "      <th>Direccion</th>\n",
       "      <th>Pips Alcistas</th>\n",
       "      <th>Pips Bajistas</th>\n",
       "      <th>Volatilidad</th>\n",
       "    </tr>\n",
       "  </thead>\n",
       "  <tbody>\n",
       "    <tr>\n",
       "      <td>0</td>\n",
       "      <td>2019-01-11 13:30:00+00:00</td>\n",
       "      <td>USD</td>\n",
       "      <td>Consumer Price Index (MoM)</td>\n",
       "      <td>United States</td>\n",
       "      <td>2</td>\n",
       "      <td>-0.1</td>\n",
       "      <td>0</td>\n",
       "      <td>-0.1</td>\n",
       "      <td>B</td>\n",
       "      <td>3e-05</td>\n",
       "      <td>0.00094</td>\n",
       "      <td>0.00062</td>\n",
       "      <td>0.00156</td>\n",
       "    </tr>\n",
       "    <tr>\n",
       "      <td>1</td>\n",
       "      <td>2019-02-13 13:30:00+00:00</td>\n",
       "      <td>USD</td>\n",
       "      <td>Consumer Price Index (MoM)</td>\n",
       "      <td>United States</td>\n",
       "      <td>2</td>\n",
       "      <td>0</td>\n",
       "      <td>-0.1</td>\n",
       "      <td>0.1</td>\n",
       "      <td>C</td>\n",
       "      <td>-0.00161</td>\n",
       "      <td>3e-05</td>\n",
       "      <td>0.00177</td>\n",
       "      <td>0.00197</td>\n",
       "    </tr>\n",
       "    <tr>\n",
       "      <td>2</td>\n",
       "      <td>2019-03-12 12:30:00+00:00</td>\n",
       "      <td>USD</td>\n",
       "      <td>Consumer Price Index (MoM)</td>\n",
       "      <td>United States</td>\n",
       "      <td>2</td>\n",
       "      <td>0.2</td>\n",
       "      <td>0</td>\n",
       "      <td>0.2</td>\n",
       "      <td>A</td>\n",
       "      <td>0.00118</td>\n",
       "      <td>0.00184</td>\n",
       "      <td>0</td>\n",
       "      <td>0.00354</td>\n",
       "    </tr>\n",
       "    <tr>\n",
       "      <td>3</td>\n",
       "      <td>2019-04-10 12:30:00+00:00</td>\n",
       "      <td>USD</td>\n",
       "      <td>Consumer Price Index (MoM)</td>\n",
       "      <td>United States</td>\n",
       "      <td>2</td>\n",
       "      <td>0.4</td>\n",
       "      <td>0.2</td>\n",
       "      <td>0.3</td>\n",
       "      <td>A</td>\n",
       "      <td>-0.00278</td>\n",
       "      <td>0.00094</td>\n",
       "      <td>0.00291</td>\n",
       "      <td>0.00385</td>\n",
       "    </tr>\n",
       "    <tr>\n",
       "      <td>4</td>\n",
       "      <td>2019-05-10 12:30:00+00:00</td>\n",
       "      <td>USD</td>\n",
       "      <td>Consumer Price Index (MoM)</td>\n",
       "      <td>United States</td>\n",
       "      <td>2</td>\n",
       "      <td>0.3</td>\n",
       "      <td>0.4</td>\n",
       "      <td>0.4</td>\n",
       "      <td>C</td>\n",
       "      <td>0.00124</td>\n",
       "      <td>0.00183</td>\n",
       "      <td>0.00014</td>\n",
       "      <td>0.00197</td>\n",
       "    </tr>\n",
       "    <tr>\n",
       "      <td>5</td>\n",
       "      <td>2019-06-12 12:30:00+00:00</td>\n",
       "      <td>USD</td>\n",
       "      <td>Consumer Price Index (MoM)</td>\n",
       "      <td>United States</td>\n",
       "      <td>2</td>\n",
       "      <td>0.1</td>\n",
       "      <td>0.3</td>\n",
       "      <td>0.1</td>\n",
       "      <td>B</td>\n",
       "      <td>-0.0013</td>\n",
       "      <td>0.00159</td>\n",
       "      <td>0.00136</td>\n",
       "      <td>0.00295</td>\n",
       "    </tr>\n",
       "    <tr>\n",
       "      <td>6</td>\n",
       "      <td>2019-07-11 12:30:00+00:00</td>\n",
       "      <td>USD</td>\n",
       "      <td>Consumer Price Index (MoM)</td>\n",
       "      <td>United States</td>\n",
       "      <td>2</td>\n",
       "      <td>0.1</td>\n",
       "      <td>0.1</td>\n",
       "      <td>0</td>\n",
       "      <td>B</td>\n",
       "      <td>-0.0012</td>\n",
       "      <td>0</td>\n",
       "      <td>0.00206</td>\n",
       "      <td>0.00236</td>\n",
       "    </tr>\n",
       "    <tr>\n",
       "      <td>7</td>\n",
       "      <td>2019-08-13 12:30:00+00:00</td>\n",
       "      <td>USD</td>\n",
       "      <td>Consumer Price Index (MoM)</td>\n",
       "      <td>United States</td>\n",
       "      <td>2</td>\n",
       "      <td>0.3</td>\n",
       "      <td>0.1</td>\n",
       "      <td>0.3</td>\n",
       "      <td>A</td>\n",
       "      <td>-0.00054</td>\n",
       "      <td>0.00048</td>\n",
       "      <td>0.00142</td>\n",
       "      <td>0.00227</td>\n",
       "    </tr>\n",
       "    <tr>\n",
       "      <td>8</td>\n",
       "      <td>2019-09-12 12:30:00+00:00</td>\n",
       "      <td>USD</td>\n",
       "      <td>Consumer Price Index (MoM)</td>\n",
       "      <td>United States</td>\n",
       "      <td>2</td>\n",
       "      <td>0.1</td>\n",
       "      <td>0.3</td>\n",
       "      <td>0.1</td>\n",
       "      <td>B</td>\n",
       "      <td>-0.00138</td>\n",
       "      <td>0.00024</td>\n",
       "      <td>0.00412</td>\n",
       "      <td>0.00467</td>\n",
       "    </tr>\n",
       "  </tbody>\n",
       "</table>\n",
       "</div>"
      ],
      "text/plain": [
       "                  timestamp Currency                        Name  \\\n",
       "0 2019-01-11 13:30:00+00:00      USD  Consumer Price Index (MoM)   \n",
       "1 2019-02-13 13:30:00+00:00      USD  Consumer Price Index (MoM)   \n",
       "2 2019-03-12 12:30:00+00:00      USD  Consumer Price Index (MoM)   \n",
       "3 2019-04-10 12:30:00+00:00      USD  Consumer Price Index (MoM)   \n",
       "4 2019-05-10 12:30:00+00:00      USD  Consumer Price Index (MoM)   \n",
       "5 2019-06-12 12:30:00+00:00      USD  Consumer Price Index (MoM)   \n",
       "6 2019-07-11 12:30:00+00:00      USD  Consumer Price Index (MoM)   \n",
       "7 2019-08-13 12:30:00+00:00      USD  Consumer Price Index (MoM)   \n",
       "8 2019-09-12 12:30:00+00:00      USD  Consumer Price Index (MoM)   \n",
       "\n",
       "         Country Volatility actual previous consensus Clasificacion Direccion  \\\n",
       "0  United States          2   -0.1        0      -0.1             B     3e-05   \n",
       "1  United States          2      0     -0.1       0.1             C  -0.00161   \n",
       "2  United States          2    0.2        0       0.2             A   0.00118   \n",
       "3  United States          2    0.4      0.2       0.3             A  -0.00278   \n",
       "4  United States          2    0.3      0.4       0.4             C   0.00124   \n",
       "5  United States          2    0.1      0.3       0.1             B   -0.0013   \n",
       "6  United States          2    0.1      0.1         0             B   -0.0012   \n",
       "7  United States          2    0.3      0.1       0.3             A  -0.00054   \n",
       "8  United States          2    0.1      0.3       0.1             B  -0.00138   \n",
       "\n",
       "  Pips Alcistas Pips Bajistas Volatilidad  \n",
       "0       0.00094       0.00062     0.00156  \n",
       "1         3e-05       0.00177     0.00197  \n",
       "2       0.00184             0     0.00354  \n",
       "3       0.00094       0.00291     0.00385  \n",
       "4       0.00183       0.00014     0.00197  \n",
       "5       0.00159       0.00136     0.00295  \n",
       "6             0       0.00206     0.00236  \n",
       "7       0.00048       0.00142     0.00227  \n",
       "8       0.00024       0.00412     0.00467  "
      ]
     },
     "execution_count": 21,
     "metadata": {},
     "output_type": "execute_result"
    }
   ],
   "source": [
    "#Creación de columnas nuevas para USA\n",
    "filtro_usa[\"Direccion\"]=\"\"\n",
    "filtro_usa[\"Pips Alcistas\"]=\"\"\n",
    "filtro_usa[\"Pips Bajistas\"]=\"\"\n",
    "filtro_usa[\"Volatilidad\"]=\"\"\n",
    "\n",
    "for i in range(len(filtro_usa)):\n",
    "    filtro_usa.loc[i,'Direccion'] = ventana_tiempo_usa[filtro_usa.loc[i,'timestamp']].loc[12,'close'] - ventana_tiempo_usa[filtro_usa.loc[i,'timestamp']].loc[6,'open']\n",
    "    filtro_usa.loc[i,'Pips Alcistas'] = ventana_tiempo_usa[filtro_usa.loc[i,'timestamp']].loc[6::,'high'].max() - ventana_tiempo_usa[filtro_usa.loc[i,'timestamp']].loc[6,'open']\n",
    "    filtro_usa.loc[i,'Pips Bajistas'] = ventana_tiempo_usa[filtro_usa.loc[i,'timestamp']].loc[6,'open'] - ventana_tiempo_usa[filtro_usa.loc[i,'timestamp']].loc[6::,'low'].min()\n",
    "    filtro_usa.loc[i,'Volatilidad'] = ventana_tiempo_usa[filtro_usa.loc[i,'timestamp']]['high'].max() - ventana_tiempo_usa[filtro_usa.loc[i,'timestamp']]['low'].min()\n",
    "\n",
    "filtro_usa"
   ]
  },
  {
   "cell_type": "code",
   "execution_count": 22,
   "metadata": {},
   "outputs": [
    {
     "data": {
      "text/html": [
       "<div>\n",
       "<style scoped>\n",
       "    .dataframe tbody tr th:only-of-type {\n",
       "        vertical-align: middle;\n",
       "    }\n",
       "\n",
       "    .dataframe tbody tr th {\n",
       "        vertical-align: top;\n",
       "    }\n",
       "\n",
       "    .dataframe thead th {\n",
       "        text-align: right;\n",
       "    }\n",
       "</style>\n",
       "<table border=\"1\" class=\"dataframe\">\n",
       "  <thead>\n",
       "    <tr style=\"text-align: right;\">\n",
       "      <th></th>\n",
       "      <th>timestamp</th>\n",
       "      <th>Currency</th>\n",
       "      <th>Name</th>\n",
       "      <th>Country</th>\n",
       "      <th>Volatility</th>\n",
       "      <th>actual</th>\n",
       "      <th>previous</th>\n",
       "      <th>consensus</th>\n",
       "      <th>Clasificacion</th>\n",
       "      <th>Direccion</th>\n",
       "      <th>Pips Alcistas</th>\n",
       "      <th>Pips Bajistas</th>\n",
       "      <th>Volatilidad</th>\n",
       "    </tr>\n",
       "  </thead>\n",
       "  <tbody>\n",
       "    <tr>\n",
       "      <td>0</td>\n",
       "      <td>2019-01-17 10:00:00+00:00</td>\n",
       "      <td>EUR</td>\n",
       "      <td>Consumer Price Index (MoM)</td>\n",
       "      <td>European Monetary Union</td>\n",
       "      <td>2</td>\n",
       "      <td>0</td>\n",
       "      <td>-0.2</td>\n",
       "      <td>0</td>\n",
       "      <td>A</td>\n",
       "      <td>-4e-05</td>\n",
       "      <td>0.00042</td>\n",
       "      <td>0.00048</td>\n",
       "      <td>0.0013</td>\n",
       "    </tr>\n",
       "    <tr>\n",
       "      <td>1</td>\n",
       "      <td>2019-02-22 10:00:00+00:00</td>\n",
       "      <td>EUR</td>\n",
       "      <td>Consumer Price Index (MoM)</td>\n",
       "      <td>European Monetary Union</td>\n",
       "      <td>2</td>\n",
       "      <td>-1</td>\n",
       "      <td>0</td>\n",
       "      <td>-1.1</td>\n",
       "      <td>B</td>\n",
       "      <td>-0.00034</td>\n",
       "      <td>6e-05</td>\n",
       "      <td>0.00044</td>\n",
       "      <td>0.00064</td>\n",
       "    </tr>\n",
       "    <tr>\n",
       "      <td>2</td>\n",
       "      <td>2019-03-15 10:00:00+00:00</td>\n",
       "      <td>EUR</td>\n",
       "      <td>Consumer Price Index (MoM)</td>\n",
       "      <td>European Monetary Union</td>\n",
       "      <td>2</td>\n",
       "      <td>0.3</td>\n",
       "      <td>-1</td>\n",
       "      <td>0.3</td>\n",
       "      <td>A</td>\n",
       "      <td>3e-05</td>\n",
       "      <td>0.00042</td>\n",
       "      <td>0.00016</td>\n",
       "      <td>0.00109</td>\n",
       "    </tr>\n",
       "    <tr>\n",
       "      <td>3</td>\n",
       "      <td>2019-04-17 09:00:00+00:00</td>\n",
       "      <td>EUR</td>\n",
       "      <td>Consumer Price Index (MoM)</td>\n",
       "      <td>European Monetary Union</td>\n",
       "      <td>2</td>\n",
       "      <td>1</td>\n",
       "      <td>0.3</td>\n",
       "      <td>1</td>\n",
       "      <td>A</td>\n",
       "      <td>0.00013</td>\n",
       "      <td>0.00019</td>\n",
       "      <td>0.00057</td>\n",
       "      <td>0.00104</td>\n",
       "    </tr>\n",
       "    <tr>\n",
       "      <td>4</td>\n",
       "      <td>2019-05-17 09:00:00+00:00</td>\n",
       "      <td>EUR</td>\n",
       "      <td>Consumer Price Index (MoM)</td>\n",
       "      <td>European Monetary Union</td>\n",
       "      <td>2</td>\n",
       "      <td>0.7</td>\n",
       "      <td>1</td>\n",
       "      <td>0.7</td>\n",
       "      <td>B</td>\n",
       "      <td>-0.00113</td>\n",
       "      <td>0.00029</td>\n",
       "      <td>0.00155</td>\n",
       "      <td>0.00184</td>\n",
       "    </tr>\n",
       "    <tr>\n",
       "      <td>5</td>\n",
       "      <td>2019-06-18 09:00:00+00:00</td>\n",
       "      <td>EUR</td>\n",
       "      <td>Consumer Price Index (MoM)</td>\n",
       "      <td>European Monetary Union</td>\n",
       "      <td>2</td>\n",
       "      <td>0.1</td>\n",
       "      <td>0.7</td>\n",
       "      <td>0.2</td>\n",
       "      <td>D</td>\n",
       "      <td>-0.00027</td>\n",
       "      <td>5e-05</td>\n",
       "      <td>0.00086</td>\n",
       "      <td>0.00161</td>\n",
       "    </tr>\n",
       "    <tr>\n",
       "      <td>6</td>\n",
       "      <td>2019-07-17 09:00:00+00:00</td>\n",
       "      <td>EUR</td>\n",
       "      <td>Consumer Price Index (MoM)</td>\n",
       "      <td>European Monetary Union</td>\n",
       "      <td>2</td>\n",
       "      <td>0.2</td>\n",
       "      <td>0.1</td>\n",
       "      <td>0.1</td>\n",
       "      <td>A</td>\n",
       "      <td>0.00036</td>\n",
       "      <td>0.00052</td>\n",
       "      <td>0</td>\n",
       "      <td>0.00065</td>\n",
       "    </tr>\n",
       "    <tr>\n",
       "      <td>7</td>\n",
       "      <td>2019-08-19 09:00:00+00:00</td>\n",
       "      <td>EUR</td>\n",
       "      <td>Consumer Price Index (MoM)</td>\n",
       "      <td>European Monetary Union</td>\n",
       "      <td>2</td>\n",
       "      <td>-0.5</td>\n",
       "      <td>0.2</td>\n",
       "      <td>-0.4</td>\n",
       "      <td>D</td>\n",
       "      <td>-0.00018</td>\n",
       "      <td>0.00046</td>\n",
       "      <td>0.0004</td>\n",
       "      <td>0.00086</td>\n",
       "    </tr>\n",
       "    <tr>\n",
       "      <td>8</td>\n",
       "      <td>2019-09-18 09:00:00+00:00</td>\n",
       "      <td>EUR</td>\n",
       "      <td>Consumer Price Index (MoM)</td>\n",
       "      <td>European Monetary Union</td>\n",
       "      <td>2</td>\n",
       "      <td>0.1</td>\n",
       "      <td>-0.5</td>\n",
       "      <td>0.2</td>\n",
       "      <td>N/A</td>\n",
       "      <td>0.00022</td>\n",
       "      <td>0.00027</td>\n",
       "      <td>0.00051</td>\n",
       "      <td>0.00167</td>\n",
       "    </tr>\n",
       "  </tbody>\n",
       "</table>\n",
       "</div>"
      ],
      "text/plain": [
       "                  timestamp Currency                        Name  \\\n",
       "0 2019-01-17 10:00:00+00:00      EUR  Consumer Price Index (MoM)   \n",
       "1 2019-02-22 10:00:00+00:00      EUR  Consumer Price Index (MoM)   \n",
       "2 2019-03-15 10:00:00+00:00      EUR  Consumer Price Index (MoM)   \n",
       "3 2019-04-17 09:00:00+00:00      EUR  Consumer Price Index (MoM)   \n",
       "4 2019-05-17 09:00:00+00:00      EUR  Consumer Price Index (MoM)   \n",
       "5 2019-06-18 09:00:00+00:00      EUR  Consumer Price Index (MoM)   \n",
       "6 2019-07-17 09:00:00+00:00      EUR  Consumer Price Index (MoM)   \n",
       "7 2019-08-19 09:00:00+00:00      EUR  Consumer Price Index (MoM)   \n",
       "8 2019-09-18 09:00:00+00:00      EUR  Consumer Price Index (MoM)   \n",
       "\n",
       "                   Country Volatility actual previous consensus Clasificacion  \\\n",
       "0  European Monetary Union          2      0     -0.2         0             A   \n",
       "1  European Monetary Union          2     -1        0      -1.1             B   \n",
       "2  European Monetary Union          2    0.3       -1       0.3             A   \n",
       "3  European Monetary Union          2      1      0.3         1             A   \n",
       "4  European Monetary Union          2    0.7        1       0.7             B   \n",
       "5  European Monetary Union          2    0.1      0.7       0.2             D   \n",
       "6  European Monetary Union          2    0.2      0.1       0.1             A   \n",
       "7  European Monetary Union          2   -0.5      0.2      -0.4             D   \n",
       "8  European Monetary Union          2    0.1     -0.5       0.2           N/A   \n",
       "\n",
       "  Direccion Pips Alcistas Pips Bajistas Volatilidad  \n",
       "0    -4e-05       0.00042       0.00048      0.0013  \n",
       "1  -0.00034         6e-05       0.00044     0.00064  \n",
       "2     3e-05       0.00042       0.00016     0.00109  \n",
       "3   0.00013       0.00019       0.00057     0.00104  \n",
       "4  -0.00113       0.00029       0.00155     0.00184  \n",
       "5  -0.00027         5e-05       0.00086     0.00161  \n",
       "6   0.00036       0.00052             0     0.00065  \n",
       "7  -0.00018       0.00046        0.0004     0.00086  \n",
       "8   0.00022       0.00027       0.00051     0.00167  "
      ]
     },
     "execution_count": 22,
     "metadata": {},
     "output_type": "execute_result"
    }
   ],
   "source": [
    "#Creación de columnas nuevas para ue\n",
    "filtro_ue[\"Direccion\"]=\"\"\n",
    "filtro_ue[\"Pips Alcistas\"]=\"\"\n",
    "filtro_ue[\"Pips Bajistas\"]=\"\"\n",
    "filtro_ue[\"Volatilidad\"]=\"\"\n",
    "\n",
    "for i in range(len(filtro_ue)):\n",
    "    filtro_ue.loc[i,'Direccion'] = ventana_tiempo_ue[filtro_ue.loc[i,'timestamp']].loc[12,'close'] - ventana_tiempo_ue[filtro_ue.loc[i,'timestamp']].loc[6,'open']\n",
    "    filtro_ue.loc[i,'Pips Alcistas'] = ventana_tiempo_ue[filtro_ue.loc[i,'timestamp']].loc[6::,'high'].max() - ventana_tiempo_ue[filtro_ue.loc[i,'timestamp']].loc[6,'open']\n",
    "    filtro_ue.loc[i,'Pips Bajistas'] = ventana_tiempo_ue[filtro_ue.loc[i,'timestamp']].loc[6,'open'] - ventana_tiempo_ue[filtro_ue.loc[i,'timestamp']].loc[6::,'low'].min()\n",
    "    filtro_ue.loc[i,'Volatilidad'] = ventana_tiempo_ue[filtro_ue.loc[i,'timestamp']]['high'].max() - ventana_tiempo_ue[filtro_ue.loc[i,'timestamp']]['low'].min()\n",
    "\n",
    "filtro_ue"
   ]
  },
  {
   "cell_type": "markdown",
   "metadata": {},
   "source": [
    "### Gráfica de clasificaciones"
   ]
  },
  {
   "cell_type": "code",
   "execution_count": 24,
   "metadata": {},
   "outputs": [
    {
     "data": {
      "application/vnd.plotly.v1+json": {
       "config": {
        "plotlyServerURL": "https://plot.ly"
       },
       "data": [
        {
         "type": "histogram",
         "x": [
          "A",
          "B",
          "A",
          "A",
          "B",
          "D",
          "A",
          "D",
          "N/A"
         ],
         "xaxis": "x",
         "yaxis": "y"
        },
        {
         "type": "histogram",
         "x": [
          "B",
          "C",
          "A",
          "A",
          "C",
          "B",
          "B",
          "A",
          "B"
         ],
         "xaxis": "x2",
         "yaxis": "y2"
        }
       ],
       "layout": {
        "annotations": [
         {
          "font": {
           "size": 16
          },
          "showarrow": false,
          "text": "Consumer Price Index (MoM) UE",
          "x": 0.225,
          "xanchor": "center",
          "xref": "paper",
          "y": 1,
          "yanchor": "bottom",
          "yref": "paper"
         },
         {
          "font": {
           "size": 16
          },
          "showarrow": false,
          "text": "Consumer Price Index (MoM) USA",
          "x": 0.775,
          "xanchor": "center",
          "xref": "paper",
          "y": 1,
          "yanchor": "bottom",
          "yref": "paper"
         }
        ],
        "template": {
         "data": {
          "bar": [
           {
            "error_x": {
             "color": "#2a3f5f"
            },
            "error_y": {
             "color": "#2a3f5f"
            },
            "marker": {
             "line": {
              "color": "#E5ECF6",
              "width": 0.5
             }
            },
            "type": "bar"
           }
          ],
          "barpolar": [
           {
            "marker": {
             "line": {
              "color": "#E5ECF6",
              "width": 0.5
             }
            },
            "type": "barpolar"
           }
          ],
          "carpet": [
           {
            "aaxis": {
             "endlinecolor": "#2a3f5f",
             "gridcolor": "white",
             "linecolor": "white",
             "minorgridcolor": "white",
             "startlinecolor": "#2a3f5f"
            },
            "baxis": {
             "endlinecolor": "#2a3f5f",
             "gridcolor": "white",
             "linecolor": "white",
             "minorgridcolor": "white",
             "startlinecolor": "#2a3f5f"
            },
            "type": "carpet"
           }
          ],
          "choropleth": [
           {
            "colorbar": {
             "outlinewidth": 0,
             "ticks": ""
            },
            "type": "choropleth"
           }
          ],
          "contour": [
           {
            "colorbar": {
             "outlinewidth": 0,
             "ticks": ""
            },
            "colorscale": [
             [
              0,
              "#0d0887"
             ],
             [
              0.1111111111111111,
              "#46039f"
             ],
             [
              0.2222222222222222,
              "#7201a8"
             ],
             [
              0.3333333333333333,
              "#9c179e"
             ],
             [
              0.4444444444444444,
              "#bd3786"
             ],
             [
              0.5555555555555556,
              "#d8576b"
             ],
             [
              0.6666666666666666,
              "#ed7953"
             ],
             [
              0.7777777777777778,
              "#fb9f3a"
             ],
             [
              0.8888888888888888,
              "#fdca26"
             ],
             [
              1,
              "#f0f921"
             ]
            ],
            "type": "contour"
           }
          ],
          "contourcarpet": [
           {
            "colorbar": {
             "outlinewidth": 0,
             "ticks": ""
            },
            "type": "contourcarpet"
           }
          ],
          "heatmap": [
           {
            "colorbar": {
             "outlinewidth": 0,
             "ticks": ""
            },
            "colorscale": [
             [
              0,
              "#0d0887"
             ],
             [
              0.1111111111111111,
              "#46039f"
             ],
             [
              0.2222222222222222,
              "#7201a8"
             ],
             [
              0.3333333333333333,
              "#9c179e"
             ],
             [
              0.4444444444444444,
              "#bd3786"
             ],
             [
              0.5555555555555556,
              "#d8576b"
             ],
             [
              0.6666666666666666,
              "#ed7953"
             ],
             [
              0.7777777777777778,
              "#fb9f3a"
             ],
             [
              0.8888888888888888,
              "#fdca26"
             ],
             [
              1,
              "#f0f921"
             ]
            ],
            "type": "heatmap"
           }
          ],
          "heatmapgl": [
           {
            "colorbar": {
             "outlinewidth": 0,
             "ticks": ""
            },
            "colorscale": [
             [
              0,
              "#0d0887"
             ],
             [
              0.1111111111111111,
              "#46039f"
             ],
             [
              0.2222222222222222,
              "#7201a8"
             ],
             [
              0.3333333333333333,
              "#9c179e"
             ],
             [
              0.4444444444444444,
              "#bd3786"
             ],
             [
              0.5555555555555556,
              "#d8576b"
             ],
             [
              0.6666666666666666,
              "#ed7953"
             ],
             [
              0.7777777777777778,
              "#fb9f3a"
             ],
             [
              0.8888888888888888,
              "#fdca26"
             ],
             [
              1,
              "#f0f921"
             ]
            ],
            "type": "heatmapgl"
           }
          ],
          "histogram": [
           {
            "marker": {
             "colorbar": {
              "outlinewidth": 0,
              "ticks": ""
             }
            },
            "type": "histogram"
           }
          ],
          "histogram2d": [
           {
            "colorbar": {
             "outlinewidth": 0,
             "ticks": ""
            },
            "colorscale": [
             [
              0,
              "#0d0887"
             ],
             [
              0.1111111111111111,
              "#46039f"
             ],
             [
              0.2222222222222222,
              "#7201a8"
             ],
             [
              0.3333333333333333,
              "#9c179e"
             ],
             [
              0.4444444444444444,
              "#bd3786"
             ],
             [
              0.5555555555555556,
              "#d8576b"
             ],
             [
              0.6666666666666666,
              "#ed7953"
             ],
             [
              0.7777777777777778,
              "#fb9f3a"
             ],
             [
              0.8888888888888888,
              "#fdca26"
             ],
             [
              1,
              "#f0f921"
             ]
            ],
            "type": "histogram2d"
           }
          ],
          "histogram2dcontour": [
           {
            "colorbar": {
             "outlinewidth": 0,
             "ticks": ""
            },
            "colorscale": [
             [
              0,
              "#0d0887"
             ],
             [
              0.1111111111111111,
              "#46039f"
             ],
             [
              0.2222222222222222,
              "#7201a8"
             ],
             [
              0.3333333333333333,
              "#9c179e"
             ],
             [
              0.4444444444444444,
              "#bd3786"
             ],
             [
              0.5555555555555556,
              "#d8576b"
             ],
             [
              0.6666666666666666,
              "#ed7953"
             ],
             [
              0.7777777777777778,
              "#fb9f3a"
             ],
             [
              0.8888888888888888,
              "#fdca26"
             ],
             [
              1,
              "#f0f921"
             ]
            ],
            "type": "histogram2dcontour"
           }
          ],
          "mesh3d": [
           {
            "colorbar": {
             "outlinewidth": 0,
             "ticks": ""
            },
            "type": "mesh3d"
           }
          ],
          "parcoords": [
           {
            "line": {
             "colorbar": {
              "outlinewidth": 0,
              "ticks": ""
             }
            },
            "type": "parcoords"
           }
          ],
          "scatter": [
           {
            "marker": {
             "colorbar": {
              "outlinewidth": 0,
              "ticks": ""
             }
            },
            "type": "scatter"
           }
          ],
          "scatter3d": [
           {
            "line": {
             "colorbar": {
              "outlinewidth": 0,
              "ticks": ""
             }
            },
            "marker": {
             "colorbar": {
              "outlinewidth": 0,
              "ticks": ""
             }
            },
            "type": "scatter3d"
           }
          ],
          "scattercarpet": [
           {
            "marker": {
             "colorbar": {
              "outlinewidth": 0,
              "ticks": ""
             }
            },
            "type": "scattercarpet"
           }
          ],
          "scattergeo": [
           {
            "marker": {
             "colorbar": {
              "outlinewidth": 0,
              "ticks": ""
             }
            },
            "type": "scattergeo"
           }
          ],
          "scattergl": [
           {
            "marker": {
             "colorbar": {
              "outlinewidth": 0,
              "ticks": ""
             }
            },
            "type": "scattergl"
           }
          ],
          "scattermapbox": [
           {
            "marker": {
             "colorbar": {
              "outlinewidth": 0,
              "ticks": ""
             }
            },
            "type": "scattermapbox"
           }
          ],
          "scatterpolar": [
           {
            "marker": {
             "colorbar": {
              "outlinewidth": 0,
              "ticks": ""
             }
            },
            "type": "scatterpolar"
           }
          ],
          "scatterpolargl": [
           {
            "marker": {
             "colorbar": {
              "outlinewidth": 0,
              "ticks": ""
             }
            },
            "type": "scatterpolargl"
           }
          ],
          "scatterternary": [
           {
            "marker": {
             "colorbar": {
              "outlinewidth": 0,
              "ticks": ""
             }
            },
            "type": "scatterternary"
           }
          ],
          "surface": [
           {
            "colorbar": {
             "outlinewidth": 0,
             "ticks": ""
            },
            "colorscale": [
             [
              0,
              "#0d0887"
             ],
             [
              0.1111111111111111,
              "#46039f"
             ],
             [
              0.2222222222222222,
              "#7201a8"
             ],
             [
              0.3333333333333333,
              "#9c179e"
             ],
             [
              0.4444444444444444,
              "#bd3786"
             ],
             [
              0.5555555555555556,
              "#d8576b"
             ],
             [
              0.6666666666666666,
              "#ed7953"
             ],
             [
              0.7777777777777778,
              "#fb9f3a"
             ],
             [
              0.8888888888888888,
              "#fdca26"
             ],
             [
              1,
              "#f0f921"
             ]
            ],
            "type": "surface"
           }
          ],
          "table": [
           {
            "cells": {
             "fill": {
              "color": "#EBF0F8"
             },
             "line": {
              "color": "white"
             }
            },
            "header": {
             "fill": {
              "color": "#C8D4E3"
             },
             "line": {
              "color": "white"
             }
            },
            "type": "table"
           }
          ]
         },
         "layout": {
          "annotationdefaults": {
           "arrowcolor": "#2a3f5f",
           "arrowhead": 0,
           "arrowwidth": 1
          },
          "colorscale": {
           "diverging": [
            [
             0,
             "#8e0152"
            ],
            [
             0.1,
             "#c51b7d"
            ],
            [
             0.2,
             "#de77ae"
            ],
            [
             0.3,
             "#f1b6da"
            ],
            [
             0.4,
             "#fde0ef"
            ],
            [
             0.5,
             "#f7f7f7"
            ],
            [
             0.6,
             "#e6f5d0"
            ],
            [
             0.7,
             "#b8e186"
            ],
            [
             0.8,
             "#7fbc41"
            ],
            [
             0.9,
             "#4d9221"
            ],
            [
             1,
             "#276419"
            ]
           ],
           "sequential": [
            [
             0,
             "#0d0887"
            ],
            [
             0.1111111111111111,
             "#46039f"
            ],
            [
             0.2222222222222222,
             "#7201a8"
            ],
            [
             0.3333333333333333,
             "#9c179e"
            ],
            [
             0.4444444444444444,
             "#bd3786"
            ],
            [
             0.5555555555555556,
             "#d8576b"
            ],
            [
             0.6666666666666666,
             "#ed7953"
            ],
            [
             0.7777777777777778,
             "#fb9f3a"
            ],
            [
             0.8888888888888888,
             "#fdca26"
            ],
            [
             1,
             "#f0f921"
            ]
           ],
           "sequentialminus": [
            [
             0,
             "#0d0887"
            ],
            [
             0.1111111111111111,
             "#46039f"
            ],
            [
             0.2222222222222222,
             "#7201a8"
            ],
            [
             0.3333333333333333,
             "#9c179e"
            ],
            [
             0.4444444444444444,
             "#bd3786"
            ],
            [
             0.5555555555555556,
             "#d8576b"
            ],
            [
             0.6666666666666666,
             "#ed7953"
            ],
            [
             0.7777777777777778,
             "#fb9f3a"
            ],
            [
             0.8888888888888888,
             "#fdca26"
            ],
            [
             1,
             "#f0f921"
            ]
           ]
          },
          "colorway": [
           "#636efa",
           "#EF553B",
           "#00cc96",
           "#ab63fa",
           "#FFA15A",
           "#19d3f3",
           "#FF6692",
           "#B6E880",
           "#FF97FF",
           "#FECB52"
          ],
          "font": {
           "color": "#2a3f5f"
          },
          "geo": {
           "bgcolor": "white",
           "lakecolor": "white",
           "landcolor": "#E5ECF6",
           "showlakes": true,
           "showland": true,
           "subunitcolor": "white"
          },
          "hoverlabel": {
           "align": "left"
          },
          "hovermode": "closest",
          "mapbox": {
           "style": "light"
          },
          "paper_bgcolor": "white",
          "plot_bgcolor": "#E5ECF6",
          "polar": {
           "angularaxis": {
            "gridcolor": "white",
            "linecolor": "white",
            "ticks": ""
           },
           "bgcolor": "#E5ECF6",
           "radialaxis": {
            "gridcolor": "white",
            "linecolor": "white",
            "ticks": ""
           }
          },
          "scene": {
           "xaxis": {
            "backgroundcolor": "#E5ECF6",
            "gridcolor": "white",
            "gridwidth": 2,
            "linecolor": "white",
            "showbackground": true,
            "ticks": "",
            "zerolinecolor": "white"
           },
           "yaxis": {
            "backgroundcolor": "#E5ECF6",
            "gridcolor": "white",
            "gridwidth": 2,
            "linecolor": "white",
            "showbackground": true,
            "ticks": "",
            "zerolinecolor": "white"
           },
           "zaxis": {
            "backgroundcolor": "#E5ECF6",
            "gridcolor": "white",
            "gridwidth": 2,
            "linecolor": "white",
            "showbackground": true,
            "ticks": "",
            "zerolinecolor": "white"
           }
          },
          "shapedefaults": {
           "line": {
            "color": "#2a3f5f"
           }
          },
          "ternary": {
           "aaxis": {
            "gridcolor": "white",
            "linecolor": "white",
            "ticks": ""
           },
           "baxis": {
            "gridcolor": "white",
            "linecolor": "white",
            "ticks": ""
           },
           "bgcolor": "#E5ECF6",
           "caxis": {
            "gridcolor": "white",
            "linecolor": "white",
            "ticks": ""
           }
          },
          "title": {
           "x": 0.05
          },
          "xaxis": {
           "automargin": true,
           "gridcolor": "white",
           "linecolor": "white",
           "ticks": "",
           "zerolinecolor": "white",
           "zerolinewidth": 2
          },
          "yaxis": {
           "automargin": true,
           "gridcolor": "white",
           "linecolor": "white",
           "ticks": "",
           "zerolinecolor": "white",
           "zerolinewidth": 2
          }
         }
        },
        "xaxis": {
         "anchor": "y",
         "domain": [
          0,
          0.45
         ]
        },
        "xaxis2": {
         "anchor": "y2",
         "domain": [
          0.55,
          1
         ]
        },
        "yaxis": {
         "anchor": "x",
         "domain": [
          0,
          1
         ]
        },
        "yaxis2": {
         "anchor": "x2",
         "domain": [
          0,
          1
         ]
        }
       }
      },
      "text/html": [
       "<div>\n",
       "        \n",
       "        \n",
       "            <div id=\"f1ba8ab5-fc73-4b65-8212-e7ad8eda07d1\" class=\"plotly-graph-div\" style=\"height:525px; width:100%;\"></div>\n",
       "            <script type=\"text/javascript\">\n",
       "                require([\"plotly\"], function(Plotly) {\n",
       "                    window.PLOTLYENV=window.PLOTLYENV || {};\n",
       "                    \n",
       "                if (document.getElementById(\"f1ba8ab5-fc73-4b65-8212-e7ad8eda07d1\")) {\n",
       "                    Plotly.newPlot(\n",
       "                        'f1ba8ab5-fc73-4b65-8212-e7ad8eda07d1',\n",
       "                        [{\"type\": \"histogram\", \"x\": [\"A\", \"B\", \"A\", \"A\", \"B\", \"D\", \"A\", \"D\", \"N/A\"], \"xaxis\": \"x\", \"yaxis\": \"y\"}, {\"type\": \"histogram\", \"x\": [\"B\", \"C\", \"A\", \"A\", \"C\", \"B\", \"B\", \"A\", \"B\"], \"xaxis\": \"x2\", \"yaxis\": \"y2\"}],\n",
       "                        {\"annotations\": [{\"font\": {\"size\": 16}, \"showarrow\": false, \"text\": \"Consumer Price Index (MoM) UE\", \"x\": 0.225, \"xanchor\": \"center\", \"xref\": \"paper\", \"y\": 1.0, \"yanchor\": \"bottom\", \"yref\": \"paper\"}, {\"font\": {\"size\": 16}, \"showarrow\": false, \"text\": \"Consumer Price Index (MoM) USA\", \"x\": 0.775, \"xanchor\": \"center\", \"xref\": \"paper\", \"y\": 1.0, \"yanchor\": \"bottom\", \"yref\": \"paper\"}], \"template\": {\"data\": {\"bar\": [{\"error_x\": {\"color\": \"#2a3f5f\"}, \"error_y\": {\"color\": \"#2a3f5f\"}, \"marker\": {\"line\": {\"color\": \"#E5ECF6\", \"width\": 0.5}}, \"type\": \"bar\"}], \"barpolar\": [{\"marker\": {\"line\": {\"color\": \"#E5ECF6\", \"width\": 0.5}}, \"type\": \"barpolar\"}], \"carpet\": [{\"aaxis\": {\"endlinecolor\": \"#2a3f5f\", \"gridcolor\": \"white\", \"linecolor\": \"white\", \"minorgridcolor\": \"white\", \"startlinecolor\": \"#2a3f5f\"}, \"baxis\": {\"endlinecolor\": \"#2a3f5f\", \"gridcolor\": \"white\", \"linecolor\": \"white\", \"minorgridcolor\": \"white\", \"startlinecolor\": \"#2a3f5f\"}, \"type\": \"carpet\"}], \"choropleth\": [{\"colorbar\": {\"outlinewidth\": 0, \"ticks\": \"\"}, \"type\": \"choropleth\"}], \"contour\": [{\"colorbar\": {\"outlinewidth\": 0, \"ticks\": \"\"}, \"colorscale\": [[0.0, \"#0d0887\"], [0.1111111111111111, \"#46039f\"], [0.2222222222222222, \"#7201a8\"], [0.3333333333333333, \"#9c179e\"], [0.4444444444444444, \"#bd3786\"], [0.5555555555555556, \"#d8576b\"], [0.6666666666666666, \"#ed7953\"], [0.7777777777777778, \"#fb9f3a\"], [0.8888888888888888, \"#fdca26\"], [1.0, \"#f0f921\"]], \"type\": \"contour\"}], \"contourcarpet\": [{\"colorbar\": {\"outlinewidth\": 0, \"ticks\": \"\"}, \"type\": \"contourcarpet\"}], \"heatmap\": [{\"colorbar\": {\"outlinewidth\": 0, \"ticks\": \"\"}, \"colorscale\": [[0.0, \"#0d0887\"], [0.1111111111111111, \"#46039f\"], [0.2222222222222222, \"#7201a8\"], [0.3333333333333333, \"#9c179e\"], [0.4444444444444444, \"#bd3786\"], [0.5555555555555556, \"#d8576b\"], [0.6666666666666666, \"#ed7953\"], [0.7777777777777778, \"#fb9f3a\"], [0.8888888888888888, \"#fdca26\"], [1.0, \"#f0f921\"]], \"type\": \"heatmap\"}], \"heatmapgl\": [{\"colorbar\": {\"outlinewidth\": 0, \"ticks\": \"\"}, \"colorscale\": [[0.0, \"#0d0887\"], [0.1111111111111111, \"#46039f\"], [0.2222222222222222, \"#7201a8\"], [0.3333333333333333, \"#9c179e\"], [0.4444444444444444, \"#bd3786\"], [0.5555555555555556, \"#d8576b\"], [0.6666666666666666, \"#ed7953\"], [0.7777777777777778, \"#fb9f3a\"], [0.8888888888888888, \"#fdca26\"], [1.0, \"#f0f921\"]], \"type\": \"heatmapgl\"}], \"histogram\": [{\"marker\": {\"colorbar\": {\"outlinewidth\": 0, \"ticks\": \"\"}}, \"type\": \"histogram\"}], \"histogram2d\": [{\"colorbar\": {\"outlinewidth\": 0, \"ticks\": \"\"}, \"colorscale\": [[0.0, \"#0d0887\"], [0.1111111111111111, \"#46039f\"], [0.2222222222222222, \"#7201a8\"], [0.3333333333333333, \"#9c179e\"], [0.4444444444444444, \"#bd3786\"], [0.5555555555555556, \"#d8576b\"], [0.6666666666666666, \"#ed7953\"], [0.7777777777777778, \"#fb9f3a\"], [0.8888888888888888, \"#fdca26\"], [1.0, \"#f0f921\"]], \"type\": \"histogram2d\"}], \"histogram2dcontour\": [{\"colorbar\": {\"outlinewidth\": 0, \"ticks\": \"\"}, \"colorscale\": [[0.0, \"#0d0887\"], [0.1111111111111111, \"#46039f\"], [0.2222222222222222, \"#7201a8\"], [0.3333333333333333, \"#9c179e\"], [0.4444444444444444, \"#bd3786\"], [0.5555555555555556, \"#d8576b\"], [0.6666666666666666, \"#ed7953\"], [0.7777777777777778, \"#fb9f3a\"], [0.8888888888888888, \"#fdca26\"], [1.0, \"#f0f921\"]], \"type\": \"histogram2dcontour\"}], \"mesh3d\": [{\"colorbar\": {\"outlinewidth\": 0, \"ticks\": \"\"}, \"type\": \"mesh3d\"}], \"parcoords\": [{\"line\": {\"colorbar\": {\"outlinewidth\": 0, \"ticks\": \"\"}}, \"type\": \"parcoords\"}], \"scatter\": [{\"marker\": {\"colorbar\": {\"outlinewidth\": 0, \"ticks\": \"\"}}, \"type\": \"scatter\"}], \"scatter3d\": [{\"line\": {\"colorbar\": {\"outlinewidth\": 0, \"ticks\": \"\"}}, \"marker\": {\"colorbar\": {\"outlinewidth\": 0, \"ticks\": \"\"}}, \"type\": \"scatter3d\"}], \"scattercarpet\": [{\"marker\": {\"colorbar\": {\"outlinewidth\": 0, \"ticks\": \"\"}}, \"type\": \"scattercarpet\"}], \"scattergeo\": [{\"marker\": {\"colorbar\": {\"outlinewidth\": 0, \"ticks\": \"\"}}, \"type\": \"scattergeo\"}], \"scattergl\": [{\"marker\": {\"colorbar\": {\"outlinewidth\": 0, \"ticks\": \"\"}}, \"type\": \"scattergl\"}], \"scattermapbox\": [{\"marker\": {\"colorbar\": {\"outlinewidth\": 0, \"ticks\": \"\"}}, \"type\": \"scattermapbox\"}], \"scatterpolar\": [{\"marker\": {\"colorbar\": {\"outlinewidth\": 0, \"ticks\": \"\"}}, \"type\": \"scatterpolar\"}], \"scatterpolargl\": [{\"marker\": {\"colorbar\": {\"outlinewidth\": 0, \"ticks\": \"\"}}, \"type\": \"scatterpolargl\"}], \"scatterternary\": [{\"marker\": {\"colorbar\": {\"outlinewidth\": 0, \"ticks\": \"\"}}, \"type\": \"scatterternary\"}], \"surface\": [{\"colorbar\": {\"outlinewidth\": 0, \"ticks\": \"\"}, \"colorscale\": [[0.0, \"#0d0887\"], [0.1111111111111111, \"#46039f\"], [0.2222222222222222, \"#7201a8\"], [0.3333333333333333, \"#9c179e\"], [0.4444444444444444, \"#bd3786\"], [0.5555555555555556, \"#d8576b\"], [0.6666666666666666, \"#ed7953\"], [0.7777777777777778, \"#fb9f3a\"], [0.8888888888888888, \"#fdca26\"], [1.0, \"#f0f921\"]], \"type\": \"surface\"}], \"table\": [{\"cells\": {\"fill\": {\"color\": \"#EBF0F8\"}, \"line\": {\"color\": \"white\"}}, \"header\": {\"fill\": {\"color\": \"#C8D4E3\"}, \"line\": {\"color\": \"white\"}}, \"type\": \"table\"}]}, \"layout\": {\"annotationdefaults\": {\"arrowcolor\": \"#2a3f5f\", \"arrowhead\": 0, \"arrowwidth\": 1}, \"colorscale\": {\"diverging\": [[0, \"#8e0152\"], [0.1, \"#c51b7d\"], [0.2, \"#de77ae\"], [0.3, \"#f1b6da\"], [0.4, \"#fde0ef\"], [0.5, \"#f7f7f7\"], [0.6, \"#e6f5d0\"], [0.7, \"#b8e186\"], [0.8, \"#7fbc41\"], [0.9, \"#4d9221\"], [1, \"#276419\"]], \"sequential\": [[0.0, \"#0d0887\"], [0.1111111111111111, \"#46039f\"], [0.2222222222222222, \"#7201a8\"], [0.3333333333333333, \"#9c179e\"], [0.4444444444444444, \"#bd3786\"], [0.5555555555555556, \"#d8576b\"], [0.6666666666666666, \"#ed7953\"], [0.7777777777777778, \"#fb9f3a\"], [0.8888888888888888, \"#fdca26\"], [1.0, \"#f0f921\"]], \"sequentialminus\": [[0.0, \"#0d0887\"], [0.1111111111111111, \"#46039f\"], [0.2222222222222222, \"#7201a8\"], [0.3333333333333333, \"#9c179e\"], [0.4444444444444444, \"#bd3786\"], [0.5555555555555556, \"#d8576b\"], [0.6666666666666666, \"#ed7953\"], [0.7777777777777778, \"#fb9f3a\"], [0.8888888888888888, \"#fdca26\"], [1.0, \"#f0f921\"]]}, \"colorway\": [\"#636efa\", \"#EF553B\", \"#00cc96\", \"#ab63fa\", \"#FFA15A\", \"#19d3f3\", \"#FF6692\", \"#B6E880\", \"#FF97FF\", \"#FECB52\"], \"font\": {\"color\": \"#2a3f5f\"}, \"geo\": {\"bgcolor\": \"white\", \"lakecolor\": \"white\", \"landcolor\": \"#E5ECF6\", \"showlakes\": true, \"showland\": true, \"subunitcolor\": \"white\"}, \"hoverlabel\": {\"align\": \"left\"}, \"hovermode\": \"closest\", \"mapbox\": {\"style\": \"light\"}, \"paper_bgcolor\": \"white\", \"plot_bgcolor\": \"#E5ECF6\", \"polar\": {\"angularaxis\": {\"gridcolor\": \"white\", \"linecolor\": \"white\", \"ticks\": \"\"}, \"bgcolor\": \"#E5ECF6\", \"radialaxis\": {\"gridcolor\": \"white\", \"linecolor\": \"white\", \"ticks\": \"\"}}, \"scene\": {\"xaxis\": {\"backgroundcolor\": \"#E5ECF6\", \"gridcolor\": \"white\", \"gridwidth\": 2, \"linecolor\": \"white\", \"showbackground\": true, \"ticks\": \"\", \"zerolinecolor\": \"white\"}, \"yaxis\": {\"backgroundcolor\": \"#E5ECF6\", \"gridcolor\": \"white\", \"gridwidth\": 2, \"linecolor\": \"white\", \"showbackground\": true, \"ticks\": \"\", \"zerolinecolor\": \"white\"}, \"zaxis\": {\"backgroundcolor\": \"#E5ECF6\", \"gridcolor\": \"white\", \"gridwidth\": 2, \"linecolor\": \"white\", \"showbackground\": true, \"ticks\": \"\", \"zerolinecolor\": \"white\"}}, \"shapedefaults\": {\"line\": {\"color\": \"#2a3f5f\"}}, \"ternary\": {\"aaxis\": {\"gridcolor\": \"white\", \"linecolor\": \"white\", \"ticks\": \"\"}, \"baxis\": {\"gridcolor\": \"white\", \"linecolor\": \"white\", \"ticks\": \"\"}, \"bgcolor\": \"#E5ECF6\", \"caxis\": {\"gridcolor\": \"white\", \"linecolor\": \"white\", \"ticks\": \"\"}}, \"title\": {\"x\": 0.05}, \"xaxis\": {\"automargin\": true, \"gridcolor\": \"white\", \"linecolor\": \"white\", \"ticks\": \"\", \"zerolinecolor\": \"white\", \"zerolinewidth\": 2}, \"yaxis\": {\"automargin\": true, \"gridcolor\": \"white\", \"linecolor\": \"white\", \"ticks\": \"\", \"zerolinecolor\": \"white\", \"zerolinewidth\": 2}}}, \"xaxis\": {\"anchor\": \"y\", \"domain\": [0.0, 0.45]}, \"xaxis2\": {\"anchor\": \"y2\", \"domain\": [0.55, 1.0]}, \"yaxis\": {\"anchor\": \"x\", \"domain\": [0.0, 1.0]}, \"yaxis2\": {\"anchor\": \"x2\", \"domain\": [0.0, 1.0]}},\n",
       "                        {\"responsive\": true}\n",
       "                    ).then(function(){\n",
       "                            \n",
       "var gd = document.getElementById('f1ba8ab5-fc73-4b65-8212-e7ad8eda07d1');\n",
       "var x = new MutationObserver(function (mutations, observer) {{\n",
       "        var display = window.getComputedStyle(gd).display;\n",
       "        if (!display || display === 'none') {{\n",
       "            console.log([gd, 'removed!']);\n",
       "            Plotly.purge(gd);\n",
       "            observer.disconnect();\n",
       "        }}\n",
       "}});\n",
       "\n",
       "// Listen for the removal of the full notebook cells\n",
       "var notebookContainer = gd.closest('#notebook-container');\n",
       "if (notebookContainer) {{\n",
       "    x.observe(notebookContainer, {childList: true});\n",
       "}}\n",
       "\n",
       "// Listen for the clearing of the current output cell\n",
       "var outputEl = gd.closest('.output');\n",
       "if (outputEl) {{\n",
       "    x.observe(outputEl, {childList: true});\n",
       "}}\n",
       "\n",
       "                        })\n",
       "                };\n",
       "                });\n",
       "            </script>\n",
       "        </div>"
      ]
     },
     "metadata": {},
     "output_type": "display_data"
    }
   ],
   "source": [
    "fig=make_subplots(rows=1,cols=2,subplot_titles=['Consumer Price Index (MoM) UE','Consumer Price Index (MoM) USA'])\n",
    "\n",
    "ue_graf=go.Histogram(x=filtro_ue[\"Clasificacion\"])\n",
    "usa_graf=go.Histogram(x=filtro_usa[\"Clasificacion\"])\n",
    "\n",
    "fig.append_trace(ue_graf,1,1)\n",
    "fig.append_trace(usa_graf,1,2)\n",
    "\n",
    "fig.show()"
   ]
  }
 ],
 "metadata": {
  "kernelspec": {
   "display_name": "Python 3",
   "language": "python",
   "name": "python3"
  },
  "language_info": {
   "codemirror_mode": {
    "name": "ipython",
    "version": 3
   },
   "file_extension": ".py",
   "mimetype": "text/x-python",
   "name": "python",
   "nbconvert_exporter": "python",
   "pygments_lexer": "ipython3",
   "version": "3.7.1"
  }
 },
 "nbformat": 4,
 "nbformat_minor": 2
}
