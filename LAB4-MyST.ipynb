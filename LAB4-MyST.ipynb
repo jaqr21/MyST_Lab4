{
 "cells": [
  {
   "cell_type": "markdown",
   "metadata": {},
   "source": [
    "<img style=\"float: right; margin: 0px 0px 15px 15px;\" src=\"https://www.carrerasenlinea.mx/logos/original/logo-instituto-tecnologico-y-de-estudios-superiores-de-occidente.png\" width=\"150px\" height=\"100px\" />\n",
    "\n",
    "# Laboratorio 4 y 5: Análisis Fundamental\n",
    "\n",
    "\n",
    "- Poder describir los efectos cuantitativos en el precio durante los comunicados de indicadores macroeconómicos, así como el detectar oportunidades de inversión a partir de los resultados obtenidos. Lo anterior, utilizando lo que se conoce como \"Calendario Económico\", y más en particular, aquel que incorpora información de las principales economías del mundo por lo que es ampliamiente utilizado en el mercado de Forex.El propósito: Que utilices la información histórica de la cuenta de trading manual y, mediante la formulación y programación de 3 \"Sesgos cognitivos\", realices una evaluación del desempeño de la cuenta utilizando el marco de \"Behavioral economics\". Con la finalidad de inferir si al momento de tomar las decisiones que se tomaron en esa cuenta, se estuvo incurriendo en esos \"Sesgos cognitivos\" y su impacto en el resultado final.\n",
    "\n",
    "\n",
    "Equipo Y:\n",
    "\n",
    "* José Antonio Quintero Rodríguez\n",
    "* Paulina Rodríguez Guerrero\n",
    "* Diego Velasco Sánchez"
   ]
  },
  {
   "cell_type": "code",
   "execution_count": 1,
   "metadata": {},
   "outputs": [],
   "source": [
    "import pandas as pd\n",
    "from collections import Counter\n",
    "import matplotlib.pyplot as plt\n",
    "import numpy as np"
   ]
  },
  {
   "cell_type": "markdown",
   "metadata": {},
   "source": [
    "### IMPORTACION DE DATOS"
   ]
  },
  {
   "cell_type": "code",
   "execution_count": 2,
   "metadata": {
    "scrolled": true
   },
   "outputs": [],
   "source": [
    "archivo = pd.read_csv('calendario_economico.csv')\n",
    "archivo.head(5)\n",
    "archivo['timestamp'] = pd.to_datetime(archivo['timestamp'])\n",
    "archivo['timestamp'] = archivo['timestamp'].dt.tz_localize('UTC')"
   ]
  },
  {
   "cell_type": "markdown",
   "metadata": {},
   "source": [
    "### SELECCION DE INDICADORES"
   ]
  },
  {
   "cell_type": "markdown",
   "metadata": {},
   "source": [
    "#### PRIMER INDICADOR"
   ]
  },
  {
   "cell_type": "code",
   "execution_count": 5,
   "metadata": {},
   "outputs": [
    {
     "data": {
      "text/html": [
       "<div>\n",
       "<style scoped>\n",
       "    .dataframe tbody tr th:only-of-type {\n",
       "        vertical-align: middle;\n",
       "    }\n",
       "\n",
       "    .dataframe tbody tr th {\n",
       "        vertical-align: top;\n",
       "    }\n",
       "\n",
       "    .dataframe thead th {\n",
       "        text-align: right;\n",
       "    }\n",
       "</style>\n",
       "<table border=\"1\" class=\"dataframe\">\n",
       "  <thead>\n",
       "    <tr style=\"text-align: right;\">\n",
       "      <th></th>\n",
       "      <th>index</th>\n",
       "      <th>timestamp</th>\n",
       "      <th>Currency</th>\n",
       "      <th>Name</th>\n",
       "      <th>Country</th>\n",
       "      <th>Volatility</th>\n",
       "      <th>actual</th>\n",
       "      <th>previous</th>\n",
       "      <th>consensus</th>\n",
       "    </tr>\n",
       "  </thead>\n",
       "  <tbody>\n",
       "    <tr>\n",
       "      <td>0</td>\n",
       "      <td>80</td>\n",
       "      <td>2009-01-16 13:30:00+00:00</td>\n",
       "      <td>USD</td>\n",
       "      <td>Consumer Price Index (MoM)</td>\n",
       "      <td>United States</td>\n",
       "      <td>2</td>\n",
       "      <td>-0.8</td>\n",
       "      <td>-1.7</td>\n",
       "      <td>-0.9</td>\n",
       "    </tr>\n",
       "    <tr>\n",
       "      <td>1</td>\n",
       "      <td>242</td>\n",
       "      <td>2009-02-20 13:30:00+00:00</td>\n",
       "      <td>USD</td>\n",
       "      <td>Consumer Price Index (MoM)</td>\n",
       "      <td>United States</td>\n",
       "      <td>2</td>\n",
       "      <td>0.3</td>\n",
       "      <td>-0.8</td>\n",
       "      <td>0.3</td>\n",
       "    </tr>\n",
       "    <tr>\n",
       "      <td>2</td>\n",
       "      <td>395</td>\n",
       "      <td>2009-03-18 12:30:00+00:00</td>\n",
       "      <td>USD</td>\n",
       "      <td>Consumer Price Index (MoM)</td>\n",
       "      <td>United States</td>\n",
       "      <td>2</td>\n",
       "      <td>0.4</td>\n",
       "      <td>0.3</td>\n",
       "      <td>0.3</td>\n",
       "    </tr>\n",
       "    <tr>\n",
       "      <td>3</td>\n",
       "      <td>526</td>\n",
       "      <td>2009-04-15 12:30:00+00:00</td>\n",
       "      <td>USD</td>\n",
       "      <td>Consumer Price Index (MoM)</td>\n",
       "      <td>United States</td>\n",
       "      <td>2</td>\n",
       "      <td>-0.1</td>\n",
       "      <td>0.4</td>\n",
       "      <td>0.1</td>\n",
       "    </tr>\n",
       "    <tr>\n",
       "      <td>4</td>\n",
       "      <td>688</td>\n",
       "      <td>2009-05-15 12:30:00+00:00</td>\n",
       "      <td>USD</td>\n",
       "      <td>Consumer Price Index (MoM)</td>\n",
       "      <td>United States</td>\n",
       "      <td>2</td>\n",
       "      <td>0.0</td>\n",
       "      <td>-0.1</td>\n",
       "      <td>0.0</td>\n",
       "    </tr>\n",
       "  </tbody>\n",
       "</table>\n",
       "</div>"
      ],
      "text/plain": [
       "   index                 timestamp Currency                        Name  \\\n",
       "0     80 2009-01-16 13:30:00+00:00      USD  Consumer Price Index (MoM)   \n",
       "1    242 2009-02-20 13:30:00+00:00      USD  Consumer Price Index (MoM)   \n",
       "2    395 2009-03-18 12:30:00+00:00      USD  Consumer Price Index (MoM)   \n",
       "3    526 2009-04-15 12:30:00+00:00      USD  Consumer Price Index (MoM)   \n",
       "4    688 2009-05-15 12:30:00+00:00      USD  Consumer Price Index (MoM)   \n",
       "\n",
       "         Country  Volatility  actual  previous  consensus  \n",
       "0  United States           2    -0.8      -1.7       -0.9  \n",
       "1  United States           2     0.3      -0.8        0.3  \n",
       "2  United States           2     0.4       0.3        0.3  \n",
       "3  United States           2    -0.1       0.4        0.1  \n",
       "4  United States           2     0.0      -0.1        0.0  "
      ]
     },
     "execution_count": 5,
     "metadata": {},
     "output_type": "execute_result"
    }
   ],
   "source": [
    "filtro_usa = archivo[((archivo['Country'] == \"United States\"))\n",
    "     & ((archivo['Name'] == 'Consumer Price Index (MoM)'))].reset_index()\n",
    "filtro_usa.head()"
   ]
  },
  {
   "cell_type": "markdown",
   "metadata": {},
   "source": [
    "#### SEGUNDO INDICADOR"
   ]
  },
  {
   "cell_type": "code",
   "execution_count": 6,
   "metadata": {},
   "outputs": [
    {
     "data": {
      "text/html": [
       "<div>\n",
       "<style scoped>\n",
       "    .dataframe tbody tr th:only-of-type {\n",
       "        vertical-align: middle;\n",
       "    }\n",
       "\n",
       "    .dataframe tbody tr th {\n",
       "        vertical-align: top;\n",
       "    }\n",
       "\n",
       "    .dataframe thead th {\n",
       "        text-align: right;\n",
       "    }\n",
       "</style>\n",
       "<table border=\"1\" class=\"dataframe\">\n",
       "  <thead>\n",
       "    <tr style=\"text-align: right;\">\n",
       "      <th></th>\n",
       "      <th>index</th>\n",
       "      <th>timestamp</th>\n",
       "      <th>Currency</th>\n",
       "      <th>Name</th>\n",
       "      <th>Country</th>\n",
       "      <th>Volatility</th>\n",
       "      <th>actual</th>\n",
       "      <th>previous</th>\n",
       "      <th>consensus</th>\n",
       "    </tr>\n",
       "  </thead>\n",
       "  <tbody>\n",
       "    <tr>\n",
       "      <td>0</td>\n",
       "      <td>63</td>\n",
       "      <td>2009-01-15 10:00:00+00:00</td>\n",
       "      <td>EUR</td>\n",
       "      <td>Consumer Price Index (MoM)</td>\n",
       "      <td>European Monetary Union</td>\n",
       "      <td>2</td>\n",
       "      <td>-0.1</td>\n",
       "      <td>-0.5</td>\n",
       "      <td>-0.1</td>\n",
       "    </tr>\n",
       "    <tr>\n",
       "      <td>1</td>\n",
       "      <td>281</td>\n",
       "      <td>2009-02-27 10:00:00+00:00</td>\n",
       "      <td>EUR</td>\n",
       "      <td>Consumer Price Index (MoM)</td>\n",
       "      <td>European Monetary Union</td>\n",
       "      <td>2</td>\n",
       "      <td>-0.8</td>\n",
       "      <td>-0.1</td>\n",
       "      <td>-0.9</td>\n",
       "    </tr>\n",
       "    <tr>\n",
       "      <td>2</td>\n",
       "      <td>370</td>\n",
       "      <td>2009-03-16 10:00:00+00:00</td>\n",
       "      <td>EUR</td>\n",
       "      <td>Consumer Price Index (MoM)</td>\n",
       "      <td>European Monetary Union</td>\n",
       "      <td>2</td>\n",
       "      <td>0.4</td>\n",
       "      <td>-0.8</td>\n",
       "      <td>0.4</td>\n",
       "    </tr>\n",
       "    <tr>\n",
       "      <td>3</td>\n",
       "      <td>539</td>\n",
       "      <td>2009-04-16 09:00:00+00:00</td>\n",
       "      <td>EUR</td>\n",
       "      <td>Consumer Price Index (MoM)</td>\n",
       "      <td>European Monetary Union</td>\n",
       "      <td>2</td>\n",
       "      <td>0.4</td>\n",
       "      <td>0.4</td>\n",
       "      <td>0.4</td>\n",
       "    </tr>\n",
       "    <tr>\n",
       "      <td>4</td>\n",
       "      <td>684</td>\n",
       "      <td>2009-05-15 09:00:00+00:00</td>\n",
       "      <td>EUR</td>\n",
       "      <td>Consumer Price Index (MoM)</td>\n",
       "      <td>European Monetary Union</td>\n",
       "      <td>2</td>\n",
       "      <td>0.4</td>\n",
       "      <td>0.4</td>\n",
       "      <td>0.4</td>\n",
       "    </tr>\n",
       "  </tbody>\n",
       "</table>\n",
       "</div>"
      ],
      "text/plain": [
       "   index                 timestamp Currency                        Name  \\\n",
       "0     63 2009-01-15 10:00:00+00:00      EUR  Consumer Price Index (MoM)   \n",
       "1    281 2009-02-27 10:00:00+00:00      EUR  Consumer Price Index (MoM)   \n",
       "2    370 2009-03-16 10:00:00+00:00      EUR  Consumer Price Index (MoM)   \n",
       "3    539 2009-04-16 09:00:00+00:00      EUR  Consumer Price Index (MoM)   \n",
       "4    684 2009-05-15 09:00:00+00:00      EUR  Consumer Price Index (MoM)   \n",
       "\n",
       "                   Country  Volatility  actual  previous  consensus  \n",
       "0  European Monetary Union           2    -0.1      -0.5       -0.1  \n",
       "1  European Monetary Union           2    -0.8      -0.1       -0.9  \n",
       "2  European Monetary Union           2     0.4      -0.8        0.4  \n",
       "3  European Monetary Union           2     0.4       0.4        0.4  \n",
       "4  European Monetary Union           2     0.4       0.4        0.4  "
      ]
     },
     "execution_count": 6,
     "metadata": {},
     "output_type": "execute_result"
    }
   ],
   "source": [
    "filtro_ue = archivo[((archivo['Country'] == \"European Monetary Union\"))\n",
    "     & ((archivo['Name'] == 'Consumer Price Index (MoM)'))].reset_index()\n",
    "filtro_ue.head()"
   ]
  },
  {
   "cell_type": "code",
   "execution_count": null,
   "metadata": {},
   "outputs": [],
   "source": []
  }
 ],
 "metadata": {
  "kernelspec": {
   "display_name": "Python 3",
   "language": "python",
   "name": "python3"
  },
  "language_info": {
   "codemirror_mode": {
    "name": "ipython",
    "version": 3
   },
   "file_extension": ".py",
   "mimetype": "text/x-python",
   "name": "python",
   "nbconvert_exporter": "python",
   "pygments_lexer": "ipython3",
   "version": "3.7.1"
  }
 },
 "nbformat": 4,
 "nbformat_minor": 2
}
